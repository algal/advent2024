{
 "cells": [
  {
   "cell_type": "markdown",
   "id": "032050dd",
   "metadata": {},
   "source": [
    "# Itertools groupby\n",
    "\n"
   ]
  },
  {
   "cell_type": "markdown",
   "id": "6250a967",
   "metadata": {},
   "source": [
    "## groupby\n",
    "\n",
    "Points to remember about groupby:\n",
    "\n",
    "- its signature is: `groupby(xs:Iterable[T], key=Callable[[T],U]) -> Iterable[tuple[U,Iterable[T]]]`\n",
    "- groupby returns the groups as iterables, which must be iterated interleaved with the groupby return object\n",
    "- `groupby(xs)` returns an iterator over `(key,xs_subgroup_iterator)` tuples, where groupby itself computes the key value!\n",
    "- groupby creates its own key.\n",
    "\n"
   ]
  },
  {
   "cell_type": "code",
   "execution_count": 1,
   "id": "fb49a029",
   "metadata": {},
   "outputs": [],
   "source": [
    "import itertools"
   ]
  },
  {
   "cell_type": "code",
   "execution_count": 42,
   "id": "ab721ce4",
   "metadata": {},
   "outputs": [
    {
     "data": {
      "text/plain": [
       "['three',\n",
       " 'two',\n",
       " 'five',\n",
       " 'four',\n",
       " 'four',\n",
       " 'five',\n",
       " 'one',\n",
       " 'one',\n",
       " 'two',\n",
       " 'one',\n",
       " 'five',\n",
       " 'five',\n",
       " 'one',\n",
       " 'three',\n",
       " 'five',\n",
       " 'four',\n",
       " 'one',\n",
       " 'five',\n",
       " 'three',\n",
       " 'two']"
      ]
     },
     "execution_count": 42,
     "metadata": {},
     "output_type": "execute_result"
    }
   ],
   "source": [
    "#lst = [random.choice([\"one\",\"two\",\"three\",\"four\",\"five\"]) for _ in range(20)]\n",
    "lst = ['three', 'two', 'five', 'four', 'four', 'five', 'one', 'one', 'two', 'one', 'five', 'five', 'one', 'three', 'five', 'four', 'one', 'five', 'three','two']\n",
    "lst"
   ]
  },
  {
   "cell_type": "markdown",
   "id": "7d3e42c7",
   "metadata": {},
   "source": [
    "### How NOT to use itertools: consume the returned iterator, then inspect subgroups"
   ]
  },
  {
   "cell_type": "code",
   "execution_count": 45,
   "id": "1a7f7b60",
   "metadata": {},
   "outputs": [
    {
     "data": {
      "text/plain": [
       "[('t', <itertools._grouper at 0x7fe87a3bb3a0>),\n",
       " ('f', <itertools._grouper at 0x7fe87a3bb1f0>),\n",
       " ('o', <itertools._grouper at 0x7fe87a3baad0>),\n",
       " ('t', <itertools._grouper at 0x7fe87a3bbcd0>),\n",
       " ('o', <itertools._grouper at 0x7fe87a3bbb80>),\n",
       " ('f', <itertools._grouper at 0x7fe87a3b9270>),\n",
       " ('o', <itertools._grouper at 0x7fe87a3b82e0>),\n",
       " ('t', <itertools._grouper at 0x7fe87a3b9540>),\n",
       " ('f', <itertools._grouper at 0x7fe87a4c07f0>),\n",
       " ('o', <itertools._grouper at 0x7fe87a4c06d0>),\n",
       " ('f', <itertools._grouper at 0x7fe87a4c1f00>),\n",
       " ('t', <itertools._grouper at 0x7fe87a4c3490>)]"
      ]
     },
     "execution_count": 45,
     "metadata": {},
     "output_type": "execute_result"
    }
   ],
   "source": [
    "[x for x in itertools.groupby(lst,key=lambda v:v[0])]"
   ]
  },
  {
   "cell_type": "markdown",
   "id": "4adc3109",
   "metadata": {},
   "source": [
    "Can't examine the subgroups after the subgroups have been listed!"
   ]
  },
  {
   "cell_type": "code",
   "execution_count": 46,
   "id": "75615da1",
   "metadata": {},
   "outputs": [
    {
     "data": {
      "text/plain": [
       "[]"
      ]
     },
     "execution_count": 46,
     "metadata": {},
     "output_type": "execute_result"
    }
   ],
   "source": [
    "list([x for x in itertools.groupby(lst,key=lambda v:v[0])][0][1])"
   ]
  },
  {
   "cell_type": "markdown",
   "id": "3bb05074",
   "metadata": {},
   "source": [
    "### groupby always adds a key value, possibly based on the key func"
   ]
  },
  {
   "cell_type": "markdown",
   "id": "32ccd608",
   "metadata": {},
   "source": [
    "We can see the key which groupby computed and added, and materialize the subgroups:"
   ]
  },
  {
   "cell_type": "code",
   "execution_count": 48,
   "id": "9d6e72a8",
   "metadata": {},
   "outputs": [
    {
     "data": {
      "text/plain": [
       "[('t', ['three', 'two']),\n",
       " ('f', ['five', 'four', 'four', 'five']),\n",
       " ('o', ['one', 'one']),\n",
       " ('t', ['two']),\n",
       " ('o', ['one']),\n",
       " ('f', ['five', 'five']),\n",
       " ('o', ['one']),\n",
       " ('t', ['three']),\n",
       " ('f', ['five', 'four']),\n",
       " ('o', ['one']),\n",
       " ('f', ['five']),\n",
       " ('t', ['three', 'two'])]"
      ]
     },
     "execution_count": 48,
     "metadata": {},
     "output_type": "execute_result"
    }
   ],
   "source": [
    "[(key,list(subgroup_iter)) for (key,subgroup_iter) in itertools.groupby(lst,key=lambda v:v[0])]"
   ]
  },
  {
   "cell_type": "markdown",
   "id": "5d624cd9",
   "metadata": {},
   "source": [
    "You need to ignore the key and materialize the subgroups, to see only the subgroups"
   ]
  },
  {
   "cell_type": "code",
   "execution_count": 49,
   "id": "652438e8",
   "metadata": {},
   "outputs": [
    {
     "data": {
      "text/plain": [
       "[['three', 'two'],\n",
       " ['five', 'four', 'four', 'five'],\n",
       " ['one', 'one'],\n",
       " ['two'],\n",
       " ['one'],\n",
       " ['five', 'five'],\n",
       " ['one'],\n",
       " ['three'],\n",
       " ['five', 'four'],\n",
       " ['one'],\n",
       " ['five'],\n",
       " ['three', 'two']]"
      ]
     },
     "execution_count": 49,
     "metadata": {},
     "output_type": "execute_result"
    }
   ],
   "source": [
    "[list(subgroup_iter) for (key,subgroup_iter) in itertools.groupby(lst,key=lambda v:v[0])]"
   ]
  },
  {
   "cell_type": "markdown",
   "id": "7ebd3343",
   "metadata": {},
   "source": [
    "Without passing a key function, group b will treat the values as keys. This will produce subgroups which are equal as defined by their equality relation:"
   ]
  },
  {
   "cell_type": "code",
   "execution_count": 50,
   "id": "80282ca3",
   "metadata": {},
   "outputs": [
    {
     "data": {
      "text/plain": [
       "[('three', ['three']),\n",
       " ('two', ['two']),\n",
       " ('five', ['five']),\n",
       " ('four', ['four', 'four']),\n",
       " ('five', ['five']),\n",
       " ('one', ['one', 'one']),\n",
       " ('two', ['two']),\n",
       " ('one', ['one']),\n",
       " ('five', ['five', 'five']),\n",
       " ('one', ['one']),\n",
       " ('three', ['three']),\n",
       " ('five', ['five']),\n",
       " ('four', ['four']),\n",
       " ('one', ['one']),\n",
       " ('five', ['five']),\n",
       " ('three', ['three']),\n",
       " ('two', ['two'])]"
      ]
     },
     "execution_count": 50,
     "metadata": {},
     "output_type": "execute_result"
    }
   ],
   "source": [
    "[(key,list(subgroup_iter)) for (key,subgroup_iter) in itertools.groupby(lst)]"
   ]
  },
  {
   "cell_type": "markdown",
   "id": "23f42339",
   "metadata": {},
   "source": [
    "### How to process gropuby results with loops"
   ]
  },
  {
   "cell_type": "code",
   "execution_count": 51,
   "id": "1eb02f8a",
   "metadata": {},
   "outputs": [
    {
     "data": {
      "text/plain": [
       "[['three'],\n",
       " ['two'],\n",
       " ['five'],\n",
       " ['four', 'four'],\n",
       " ['five'],\n",
       " ['one', 'one'],\n",
       " ['two'],\n",
       " ['one'],\n",
       " ['five', 'five'],\n",
       " ['one'],\n",
       " ['three'],\n",
       " ['five'],\n",
       " ['four'],\n",
       " ['one'],\n",
       " ['five'],\n",
       " ['three'],\n",
       " ['two']]"
      ]
     },
     "execution_count": 51,
     "metadata": {},
     "output_type": "execute_result"
    }
   ],
   "source": [
    "sublists = []\n",
    "for (key,subgroup_iter) in itertools.groupby(lst):\n",
    "    sublist = list(subgroup_iter)\n",
    "    sublists.append(sublist)\n",
    "sublists"
   ]
  },
  {
   "cell_type": "markdown",
   "id": "20c2d062",
   "metadata": {},
   "source": [
    "## How to avoid groupby and use loops"
   ]
  },
  {
   "cell_type": "code",
   "execution_count": 55,
   "id": "8e2ca4ad",
   "metadata": {},
   "outputs": [
    {
     "data": {
      "text/plain": [
       "[['three'],\n",
       " ['two'],\n",
       " ['five'],\n",
       " ['four', 'four'],\n",
       " ['five'],\n",
       " ['one', 'one'],\n",
       " ['two'],\n",
       " ['one'],\n",
       " ['five', 'five'],\n",
       " ['one'],\n",
       " ['three'],\n",
       " ['five'],\n",
       " ['four'],\n",
       " ['one'],\n",
       " ['five'],\n",
       " ['three'],\n",
       " ['two']]"
      ]
     },
     "execution_count": 55,
     "metadata": {},
     "output_type": "execute_result"
    }
   ],
   "source": [
    "sublists = []\n",
    "current_sublist = []\n",
    "sublists.append(current_sublist)\n",
    "for item in lst:\n",
    "    # if the current_sublist is empty (first iteration) or its last item == the current item\n",
    "    if len(current_sublist) == 0 or current_sublist[-1] == item:\n",
    "        # add the current item\n",
    "        current_sublist.append(item)\n",
    "    else:\n",
    "        # otherwise, start a new current_sublit\n",
    "        current_sublist = [item]\n",
    "        sublists.append(current_sublist)\n",
    "sublists"
   ]
  },
  {
   "cell_type": "markdown",
   "id": "cc3a850b",
   "metadata": {},
   "source": [
    "## splitting a list"
   ]
  },
  {
   "cell_type": "code",
   "execution_count": 59,
   "id": "6cd2ac7f",
   "metadata": {},
   "outputs": [
    {
     "data": {
      "text/plain": [
       "['c',\n",
       " 'e',\n",
       " 'p',\n",
       " 'f',\n",
       " 'c',\n",
       " '',\n",
       " '',\n",
       " 'v',\n",
       " '',\n",
       " 'v',\n",
       " 'c',\n",
       " '',\n",
       " 'd',\n",
       " 'y',\n",
       " 'n',\n",
       " 'b',\n",
       " 'o',\n",
       " 'b',\n",
       " 'v',\n",
       " 'n']"
      ]
     },
     "execution_count": 59,
     "metadata": {},
     "output_type": "execute_result"
    }
   ],
   "source": [
    "import string\n",
    "lst2 = [random.choice(string.ascii_lowercase) for _ in range(20)]\n",
    "for split_index in [random.randint(0,20-1) for _ in range(5)]:\n",
    "    lst2[split_index] = ''\n",
    "lst2"
   ]
  },
  {
   "cell_type": "code",
   "execution_count": 64,
   "id": "0071f243",
   "metadata": {},
   "outputs": [],
   "source": [
    "sublists = []\n",
    "curlist = None\n",
    "for ch in lst2:\n",
    "    match (curlist is None, )"
   ]
  },
  {
   "cell_type": "code",
   "execution_count": 65,
   "id": "bbb99903",
   "metadata": {},
   "outputs": [
    {
     "data": {
      "text/plain": [
       "[['c', 'e', 'p', 'f', 'c'],\n",
       " ['v'],\n",
       " ['v', 'c'],\n",
       " ['d', 'y', 'n', 'b', 'o', 'b', 'v', 'n']]"
      ]
     },
     "execution_count": 65,
     "metadata": {},
     "output_type": "execute_result"
    }
   ],
   "source": [
    "sublists = []\n",
    "cur_list = None\n",
    "sep = ''\n",
    "for i,ch in enumerate(lst2):\n",
    "    match (cur_list is None, ch != sep):\n",
    "        case (True,True):\n",
    "            cur_list = [ch]\n",
    "            sublists.append(cur_list)\n",
    "        case (True,False):\n",
    "            pass\n",
    "        case (False, True):\n",
    "            cur_list.append(ch)\n",
    "        case (False,False):\n",
    "            cur_list = None\n",
    "sublists\n",
    "        "
   ]
  },
  {
   "cell_type": "code",
   "execution_count": null,
   "id": "50553eea",
   "metadata": {},
   "outputs": [],
   "source": []
  }
 ],
 "metadata": {
  "kernelspec": {
   "display_name": "Python 3 (ipykernel)",
   "language": "python",
   "name": "python3"
  },
  "language_info": {
   "codemirror_mode": {
    "name": "ipython",
    "version": 3
   },
   "file_extension": ".py",
   "mimetype": "text/x-python",
   "name": "python",
   "nbconvert_exporter": "python",
   "pygments_lexer": "ipython3",
   "version": "3.12.0"
  }
 },
 "nbformat": 4,
 "nbformat_minor": 5
}
