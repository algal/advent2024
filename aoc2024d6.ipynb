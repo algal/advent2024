{
 "cells": [
  {
   "cell_type": "markdown",
   "metadata": {},
   "source": [
    "# AOC 2024 day 6"
   ]
  },
  {
   "cell_type": "markdown",
   "metadata": {},
   "source": [
    "The Historians use their fancy device again, this time to whisk you all away to the North Pole prototype suit manufacturing lab... in the year 1518! It turns out that having direct access to history is very convenient for a group of historians.\n",
    "\n",
    "You still have to be careful of time paradoxes, and so it will be important to avoid anyone from 1518 while The Historians search for the Chief. Unfortunately, a single guard is patrolling this part of the lab.\n",
    "\n",
    "Maybe you can work out where the guard will go ahead of time so that The Historians can search safely?\n",
    "\n",
    "You start by making a map (your puzzle input) of the situation. For example:\n",
    "\n",
    "```\n",
    "....#.....\n",
    ".........#\n",
    "..........\n",
    "..#.......\n",
    ".......#..\n",
    "..........\n",
    ".#..^.....\n",
    "........#.\n",
    "#.........\n",
    "......#...\n",
    "```\n",
    "\n",
    "The map shows the current position of the guard with ^ (to indicate the guard is currently facing up from the perspective of the map). Any obstructions - crates, desks, alchemical reactors, etc. - are shown as #.\n",
    "\n",
    "Lab guards in 1518 follow a very strict patrol protocol which involves repeatedly following these steps:\n",
    "\n",
    "If there is something directly in front of you, turn right 90 degrees.\n",
    "Otherwise, take a step forward.\n",
    "Following the above protocol, the guard moves up several times until she reaches an obstacle (in this case, a pile of failed suit prototypes):\n",
    "\n",
    "```\n",
    "....#.....\n",
    "....^....#\n",
    "..........\n",
    "..#.......\n",
    ".......#..\n",
    "..........\n",
    ".#........\n",
    "........#.\n",
    "#.........\n",
    "......#...\n",
    "```\n",
    "\n",
    "Because there is now an obstacle in front of the guard, she turns right before continuing straight in her new facing direction:\n",
    "\n",
    "```\n",
    "....#.....\n",
    "........>#\n",
    "..........\n",
    "..#.......\n",
    ".......#..\n",
    "..........\n",
    ".#........\n",
    "........#.\n",
    "#.........\n",
    "......#...\n",
    "```\n",
    "\n",
    "Reaching another obstacle (a spool of several very long polymers), she turns right again and continues downward:\n",
    "\n",
    "```\n",
    "....#.....\n",
    ".........#\n",
    "..........\n",
    "..#.......\n",
    ".......#..\n",
    "..........\n",
    ".#......v.\n",
    "........#.\n",
    "#.........\n",
    "......#...\n",
    "```\n",
    "\n",
    "This process continues for a while, but the guard eventually leaves the mapped area (after walking past a tank of universal solvent):\n",
    "\n",
    "```\n",
    "....#.....\n",
    ".........#\n",
    "..........\n",
    "..#.......\n",
    ".......#..\n",
    "..........\n",
    ".#........\n",
    "........#.\n",
    "#.........\n",
    "......#v..\n",
    "```\n",
    "\n",
    "By predicting the guard's route, you can determine which specific positions in the lab will be in the patrol path. Including the guard's starting position, the positions visited by the guard before leaving the area are marked with an X:\n",
    "\n",
    "```\n",
    "....#.....\n",
    "....XXXXX#\n",
    "....X...X.\n",
    "..#.X...X.\n",
    "..XXXXX#X.\n",
    "..X.X.X.X.\n",
    ".#XXXXXXX.\n",
    ".XXXXXXX#.\n",
    "#XXXXXXX..\n",
    "......#X..\n",
    "```\n",
    "\n",
    "In this example, the guard will visit 41 distinct positions on your map.\n",
    "\n",
    "Predict the path of the guard. How many distinct positions will the guard visit before leaving the mapped area?\n",
    "\n",
    "Your puzzle answer was 4647."
   ]
  },
  {
   "cell_type": "markdown",
   "metadata": {},
   "source": [
    "map:\n",
    "\n",
    "```\n",
    "....#.....\n",
    ".........#\n",
    "..........\n",
    "..#.......\n",
    ".......#..\n",
    "..........\n",
    ".#..^.....\n",
    "........#.\n",
    "#.........\n",
    "......#...\n",
    "```"
   ]
  },
  {
   "cell_type": "code",
   "execution_count": 3,
   "metadata": {},
   "outputs": [],
   "source": [
    "!pip install -q 'advent-of-code-data[nb]'"
   ]
  },
  {
   "cell_type": "code",
   "execution_count": 5,
   "metadata": {},
   "outputs": [],
   "source": [
    "import os\n",
    "from aocd import get_data\n",
    "inp = get_data(day=6, year=2024)"
   ]
  },
  {
   "cell_type": "code",
   "execution_count": 6,
   "metadata": {},
   "outputs": [],
   "source": [
    "sample = \"\"\"....#.....\n",
    ".........#\n",
    "..........\n",
    "..#.......\n",
    ".......#..\n",
    "..........\n",
    ".#..^.....\n",
    "........#.\n",
    "#.........\n",
    "......#...\"\"\""
   ]
  },
  {
   "cell_type": "code",
   "execution_count": 7,
   "metadata": {},
   "outputs": [
    {
     "name": "stdout",
     "output_type": "stream",
     "text": [
      "['....#.....', '.........#', '..........', '..#.......', '.......#..', '..........', '.#..^.....', '........#.', '#.........', '......#...']\n"
     ]
    }
   ],
   "source": [
    "def parse_map(s:str):\n",
    "    return [line for line in s.splitlines()]\n",
    "sample_map = parse_map(sample)\n",
    "print(sample_map)"
   ]
  },
  {
   "cell_type": "code",
   "execution_count": 8,
   "metadata": {},
   "outputs": [
    {
     "name": "stdout",
     "output_type": "stream",
     "text": [
      ". (0,0) . (1,0) . (2,0) . (3,0) # (4,0) . (5,0) . (6,0) . (7,0) . (8,0) . (9,0) \n",
      ". (0,1) . (1,1) . (2,1) . (3,1) . (4,1) . (5,1) . (6,1) . (7,1) . (8,1) # (9,1) \n",
      ". (0,2) . (1,2) . (2,2) . (3,2) . (4,2) . (5,2) . (6,2) . (7,2) . (8,2) . (9,2) \n",
      ". (0,3) . (1,3) # (2,3) . (3,3) . (4,3) . (5,3) . (6,3) . (7,3) . (8,3) . (9,3) \n",
      ". (0,4) . (1,4) . (2,4) . (3,4) . (4,4) . (5,4) . (6,4) # (7,4) . (8,4) . (9,4) \n",
      ". (0,5) . (1,5) . (2,5) . (3,5) . (4,5) . (5,5) . (6,5) . (7,5) . (8,5) . (9,5) \n",
      ". (0,6) # (1,6) . (2,6) . (3,6) ^ (4,6) . (5,6) . (6,6) . (7,6) . (8,6) . (9,6) \n",
      ". (0,7) . (1,7) . (2,7) . (3,7) . (4,7) . (5,7) . (6,7) . (7,7) # (8,7) . (9,7) \n",
      "# (0,8) . (1,8) . (2,8) . (3,8) . (4,8) . (5,8) . (6,8) . (7,8) . (8,8) . (9,8) \n",
      ". (0,9) . (1,9) . (2,9) . (3,9) . (4,9) . (5,9) # (6,9) . (7,9) . (8,9) . (9,9) \n"
     ]
    }
   ],
   "source": [
    "def print_map(m):\n",
    "    for line_i,line in enumerate(m):\n",
    "        for x,ch in enumerate(line):\n",
    "            print(f\"{ch} ({x},{line_i}) \",end=\"\")\n",
    "        print()\n",
    "print_map(sample_map)"
   ]
  },
  {
   "cell_type": "markdown",
   "metadata": {},
   "source": [
    "**AI Prompt**\n",
    "\n",
    "Remind me briefly the terse python syntax for enums, please"
   ]
  },
  {
   "cell_type": "markdown",
   "metadata": {},
   "source": [
    "**AI Response**\n",
    "\n",
    "Here's the basic enum syntax in Python:\n",
    "\n",
    "```python\n",
    "from enum import Enum\n",
    "\n",
    "class Direction(Enum):\n",
    "    NORTH = 1\n",
    "    SOUTH = 2\n",
    "    EAST = 3\n",
    "    WEST = 4\n",
    "```\n",
    "\n",
    "You can also use `auto()` to automatically assign values:\n",
    "\n",
    "```python\n",
    "from enum import Enum, auto\n",
    "\n",
    "class Direction(Enum):\n",
    "    NORTH = auto()\n",
    "    SOUTH = auto()\n",
    "```\n",
    "\n",
    "Would you like to see any specific usage examples?"
   ]
  },
  {
   "cell_type": "markdown",
   "metadata": {},
   "source": [
    "**AI Prompt**\n",
    "\n",
    "Even terser?"
   ]
  },
  {
   "cell_type": "markdown",
   "metadata": {},
   "source": [
    "**AI Response**\n",
    "\n",
    "The tersest enum syntax using string values:\n",
    "\n",
    "```python\n",
    "Direction = Enum('Direction', 'NORTH SOUTH EAST WEST')\n",
    "```\n",
    "\n",
    "Or with custom values:\n",
    "\n",
    "```python\n",
    "Direction = Enum('Direction', {'NORTH':1, 'SOUTH':2, 'EAST':3, 'WEST':4})\n",
    "```"
   ]
  },
  {
   "cell_type": "markdown",
   "metadata": {},
   "source": [
    "**AI Prompt**\n",
    "\n",
    "Really, it works with just spaces separating the tokens in the first example??"
   ]
  },
  {
   "cell_type": "markdown",
   "metadata": {},
   "source": [
    "**AI Response**\n",
    "\n",
    "Yes! When you pass a space-separated string, Python's Enum constructor automatically splits it into tokens and creates enum members with auto-incrementing values starting from 1. It's equivalent to:\n",
    "\n",
    "```python\n",
    "Direction = Enum('Direction', ['NORTH', 'SOUTH', 'EAST', 'WEST'])\n",
    "```\n",
    "\n",
    "Would you like me to show you what the values would be?"
   ]
  },
  {
   "cell_type": "code",
   "execution_count": 9,
   "metadata": {},
   "outputs": [],
   "source": [
    "from enum import Enum\n",
    "Direction = Enum(\"Direction\",\"north south east west\")\n",
    "Action = Enum(\"Action\",\"forward turn\")\n",
    "Content = Enum(\"Content\",\"obstruction tile exit\")"
   ]
  },
  {
   "cell_type": "code",
   "execution_count": 10,
   "metadata": {},
   "outputs": [],
   "source": [
    "class State:\n",
    "    pos:tuple[int,int] = (0,0)\n",
    "    direction:Direction = Direction.north"
   ]
  },
  {
   "cell_type": "markdown",
   "metadata": {},
   "source": [
    "> **After-analysis**: This last should have been a dataclass but somehow I often forget to use them I think because of the decorator syntax makes it feel like it's not intrinsic to the language>"
   ]
  },
  {
   "cell_type": "code",
   "execution_count": 11,
   "metadata": {},
   "outputs": [],
   "source": [
    "def evolve(state:State,visited:set,mmap:list[str]) -> tuple[State,set]:\n",
    "    new_state = compute_next_guard_state(state,mmap)\n",
    "    if content(new_state.pos,mmap) != Content.exit:\n",
    "        new_visited = visited | {new_state.pos}\n",
    "    else:\n",
    "        new_visited = visited\n",
    "    return (new_state,new_visited)"
   ]
  },
  {
   "cell_type": "code",
   "execution_count": 12,
   "metadata": {},
   "outputs": [],
   "source": [
    "def compute_next_guard_state(state:State,mmap):\n",
    "    pos = state.pos\n",
    "    match state.direction:\n",
    "        case Direction.north: facing_pos = (pos[0],pos[1]-1)\n",
    "        case Direction.south: facing_pos = (pos[0],pos[1]+1)\n",
    "        case Direction.east:  facing_pos = (pos[0]+1,pos[1])\n",
    "        case Direction.west:  facing_pos = (pos[0]-1,pos[1])\n",
    "    match content(facing_pos,mmap):\n",
    "        case Content.obstruction: next_action = Action.turn\n",
    "        case Content.tile: next_action = Action.forward\n",
    "        case Content.exit: next_action = Action.forward\n",
    "    match next_action:\n",
    "        case Action.forward:\n",
    "            new_pos = facing_pos\n",
    "            new_direction = state.direction\n",
    "        case Action.turn:\n",
    "            new_pos = state.pos\n",
    "            new_direction = {\n",
    "                Direction.north:Direction.east,\n",
    "                Direction.east:Direction.south,\n",
    "                Direction.south:Direction.west,\n",
    "                Direction.west:Direction.north}[state.direction]\n",
    "    new_state = State()\n",
    "    new_state.pos=new_pos\n",
    "    new_state.direction=new_direction\n",
    "    return new_state"
   ]
  },
  {
   "cell_type": "code",
   "execution_count": 13,
   "metadata": {},
   "outputs": [],
   "source": [
    "def content(pos,mmap):\n",
    "    if pos[1] < 0 or not pos[1] < len(mmap): return Content.exit\n",
    "    if pos[0] < 0 or not pos[0] < len(mmap[0]): return Content.exit\n",
    "    ch = mmap[pos[1]][pos[0]]\n",
    "    if ch == '.': return Content.tile\n",
    "    elif ch == '#': return Content.obstruction\n",
    "    else:\n",
    "        print(\"Found unexpected character within map bounds\")\n",
    "        return Content.exit"
   ]
  },
  {
   "cell_type": "code",
   "execution_count": 14,
   "metadata": {},
   "outputs": [],
   "source": [
    "initial_state = State()\n",
    "initial_state.pos=(3,6)\n",
    "initial_state.direction=Direction.north"
   ]
  },
  {
   "cell_type": "code",
   "execution_count": 15,
   "metadata": {},
   "outputs": [
    {
     "name": "stdout",
     "output_type": "stream",
     "text": [
      ". (0,0) . (1,0) . (2,0) . (3,0) # (4,0) . (5,0) . (6,0) . (7,0) . (8,0) . (9,0) \n",
      ". (0,1) . (1,1) . (2,1) . (3,1) . (4,1) . (5,1) . (6,1) . (7,1) . (8,1) # (9,1) \n",
      ". (0,2) . (1,2) . (2,2) . (3,2) . (4,2) . (5,2) . (6,2) . (7,2) . (8,2) . (9,2) \n",
      ". (0,3) . (1,3) # (2,3) . (3,3) . (4,3) . (5,3) . (6,3) . (7,3) . (8,3) . (9,3) \n",
      ". (0,4) . (1,4) . (2,4) . (3,4) . (4,4) . (5,4) . (6,4) # (7,4) . (8,4) . (9,4) \n",
      ". (0,5) . (1,5) . (2,5) . (3,5) . (4,5) . (5,5) . (6,5) . (7,5) . (8,5) . (9,5) \n",
      ". (0,6) # (1,6) . (2,6) . (3,6) ^ (4,6) . (5,6) . (6,6) . (7,6) . (8,6) . (9,6) \n",
      ". (0,7) . (1,7) . (2,7) . (3,7) . (4,7) . (5,7) . (6,7) . (7,7) # (8,7) . (9,7) \n",
      "# (0,8) . (1,8) . (2,8) . (3,8) . (4,8) . (5,8) . (6,8) . (7,8) . (8,8) . (9,8) \n",
      ". (0,9) . (1,9) . (2,9) . (3,9) . (4,9) . (5,9) # (6,9) . (7,9) . (8,9) . (9,9) \n"
     ]
    }
   ],
   "source": [
    "def print_map(m,visited:set|None=None,state:State|None=None):\n",
    "    for line_i,line in enumerate(m):\n",
    "        for x,ch in enumerate(line):\n",
    "            if visited is not None and ch in visited: ch = \"X\"\n",
    "            if state is not None and state.pos==(x,line_i):\n",
    "                ch = {Direction.north:\"^\",Direction.east:\">\",Direction.west:\"<\",Direction.south:\"v\"}[state.direction]\n",
    "            print(f\"{ch} ({x},{line_i}) \",end=\"\")\n",
    "        print()\n",
    "print_map(sample_map)"
   ]
  },
  {
   "cell_type": "markdown",
   "metadata": {},
   "source": [
    "> **After-analysis**: In retrospect, this wasn't very useful. A nicer pattern for printing and debugging grids would be to print the coordinates or the units digit of the coordinatea long a header row and and column\n",
    "\n",
    "> **Meta-analysis**: Maybe if this debug helper had helped more, I would not have misstepped with my analytical attempt."
   ]
  },
  {
   "cell_type": "code",
   "execution_count": 16,
   "metadata": {},
   "outputs": [],
   "source": [
    "import copy\n",
    "\n",
    "def starting_map_state_visited(mmap):\n",
    "    direction_dict = {Direction.north:\"^\",Direction.east:\">\",Direction.west:\"<\",Direction.south:\"v\"}\n",
    "    g_to_dir = {v:k for k,v in direction_dict.items()}\n",
    "    def f():\n",
    "        for y,line in enumerate(mmap):\n",
    "            for x,ch in enumerate(line):\n",
    "                if ch in g_to_dir:\n",
    "                    initial_pos = (x,y)\n",
    "                    initial_dir = g_to_dir[ch]\n",
    "                    retval = State()\n",
    "                    retval.pos = initial_pos\n",
    "                    retval.direction = initial_dir\n",
    "                    return retval\n",
    "        print(\"error. map had no guard on it.\")\n",
    "        return None\n",
    "    initial_state = f()\n",
    "    (x,y) = initial_state.pos\n",
    "    mmap = copy.copy(mmap)\n",
    "    mmap[y] = mmap[y][:x] + '.' + mmap[y][x+1:]\n",
    "    visited = set()\n",
    "    visited.add((x,y))\n",
    "    return (initial_state, visited, mmap)"
   ]
  },
  {
   "cell_type": "markdown",
   "metadata": {},
   "source": [
    "This func required a few iterations to fix typos, but nothing conceptual. The main point was to realize that it is necessary, to read the guard's initial state off of the map, and then to leave behind a clean map I can use for future movement."
   ]
  },
  {
   "cell_type": "code",
   "execution_count": 17,
   "metadata": {},
   "outputs": [
    {
     "name": "stdout",
     "output_type": "stream",
     "text": [
      "['....#.....', '.........#', '..........', '..#.......', '.......#..', '..........', '.#..^.....', '........#.', '#.........', '......#...']\n"
     ]
    }
   ],
   "source": [
    "m = parse_map(sample)\n",
    "print(m)"
   ]
  },
  {
   "cell_type": "code",
   "execution_count": 18,
   "metadata": {},
   "outputs": [],
   "source": [
    "(init_state, init_visited, init_map) = starting_map_state_visited(m)"
   ]
  },
  {
   "cell_type": "code",
   "execution_count": 19,
   "metadata": {},
   "outputs": [
    {
     "data": {
      "text/plain": [
       "((4, 6), <Direction.north: 1>)"
      ]
     },
     "execution_count": 19,
     "metadata": {},
     "output_type": "execute_result"
    }
   ],
   "source": [
    "init_state.pos, init_state.direction"
   ]
  },
  {
   "cell_type": "code",
   "execution_count": 20,
   "metadata": {},
   "outputs": [
    {
     "data": {
      "text/plain": [
       "{(4, 6)}"
      ]
     },
     "execution_count": 20,
     "metadata": {},
     "output_type": "execute_result"
    }
   ],
   "source": [
    "init_visited"
   ]
  },
  {
   "cell_type": "code",
   "execution_count": 25,
   "metadata": {},
   "outputs": [],
   "source": [
    "(init_state,init_visited,clean_map) = starting_map_state_visited(parse_map(sample))"
   ]
  },
  {
   "cell_type": "code",
   "execution_count": 26,
   "metadata": {},
   "outputs": [
    {
     "data": {
      "text/plain": [
       "(<__main__.State at 0x7f3d7f6a2ea0>, {(4, 5), (4, 6)})"
      ]
     },
     "execution_count": 26,
     "metadata": {},
     "output_type": "execute_result"
    }
   ],
   "source": [
    "evolve(init_state,init_visited,clean_map)"
   ]
  },
  {
   "cell_type": "code",
   "execution_count": 27,
   "metadata": {},
   "outputs": [],
   "source": [
    "def wander(s:str,verbose=False):\n",
    "    (state,visited,init_map) = starting_map_state_visited(parse_map(s))\n",
    "    if verbose: print_map(m=init_map,state=state,visited=visited)\n",
    "    while content(pos=state.pos,mmap=init_map) != Content.exit:\n",
    "        (state,visited) = evolve(state=state,visited=visited,mmap=init_map)\n",
    "        if verbose: print_map(m=init_map,state=state,visited=visited)\n",
    "    return visited"
   ]
  },
  {
   "cell_type": "code",
   "execution_count": 28,
   "metadata": {},
   "outputs": [
    {
     "data": {
      "text/plain": [
       "41"
      ]
     },
     "execution_count": 28,
     "metadata": {},
     "output_type": "execute_result"
    }
   ],
   "source": [
    "final_visited = wander(sample)\n",
    "len(final_visited)"
   ]
  },
  {
   "cell_type": "code",
   "execution_count": 29,
   "metadata": {},
   "outputs": [
    {
     "data": {
      "text/plain": [
       "4647"
      ]
     },
     "execution_count": 29,
     "metadata": {},
     "output_type": "execute_result"
    }
   ],
   "source": [
    "len( wander(inp))"
   ]
  },
  {
   "cell_type": "markdown",
   "metadata": {},
   "source": [
    "> **Meta-analysis**: Reflections on solution method:\n",
    "> \n",
    "> - I used AI mainly for lookup on odd corners of Python: enum syntax, immutable set unioning.\n",
    "> - I made iterations not visible in the notebook, but they were fairly shallow.\n",
    "> - Clearly, I did not write a plan for myself, but I started immediately writing types and then top-down code.\n",
    ">\n",
    "> However, this explicit and high-level code was so clear to me that it served as a plan, I would say. Maybe this only reflects I was comfortable with this problem so far. I could have used AI to do more work for me, but I don't think I would have understood the result as well so I doubt it would have saved time on net."
   ]
  },
  {
   "cell_type": "markdown",
   "metadata": {},
   "source": [
    "## pt 2\n",
    "\n",
    "Find all places where an obstruction causes a loop."
   ]
  },
  {
   "cell_type": "markdown",
   "metadata": {},
   "source": [
    "While The Historians begin working around the guard's patrol route, you borrow their fancy device and step outside the lab. From the safety of a supply closet, you time travel through the last few months and record the nightly status of the lab's guard post on the walls of the closet.\n",
    "\n",
    "Returning after what seems like only a few seconds to The Historians, they explain that the guard's patrol area is simply too large for them to safely search the lab without getting caught.\n",
    "\n",
    "Fortunately, they are pretty sure that adding a single new obstruction won't cause a time paradox. They'd like to place the new obstruction in such a way that the guard will get stuck in a loop, making the rest of the lab safe to search.\n",
    "\n",
    "To have the lowest chance of creating a time paradox, The Historians would like to know all of the possible positions for such an obstruction. The new obstruction can't be placed at the guard's starting position - the guard is there right now and would notice.\n",
    "\n",
    "In the above example, there are only 6 different positions where a new obstruction would cause the guard to get stuck in a loop. The diagrams of these six situations use O to mark the new obstruction, | to show a position where the guard moves up/down, - to show a position where the guard moves left/right, and + to show a position where the guard moves both up/down and left/right.\n",
    "\n",
    "Option one, put a printing press next to the guard's starting position:\n",
    "\n",
    "```\n",
    "....#.....\n",
    "....+---+#\n",
    "....|...|.\n",
    "..#.|...|.\n",
    "....|..#|.\n",
    "....|...|.\n",
    ".#.O^---+.\n",
    "........#.\n",
    "#.........\n",
    "......#...\n",
    "```\n",
    "\n",
    "Option two, put a stack of failed suit prototypes in the bottom right quadrant of the mapped area:\n",
    "\n",
    "\n",
    "```\n",
    "....#.....\n",
    "....+---+#\n",
    "....|...|.\n",
    "..#.|...|.\n",
    "..+-+-+#|.\n",
    "..|.|.|.|.\n",
    ".#+-^-+-+.\n",
    "......O.#.\n",
    "#.........\n",
    "......#...\n",
    "```\n",
    "\n",
    "Option three, put a crate of chimney-squeeze prototype fabric next to the standing desk in the bottom right quadrant:\n",
    "\n",
    "```\n",
    "....#.....\n",
    "....+---+#\n",
    "....|...|.\n",
    "..#.|...|.\n",
    "..+-+-+#|.\n",
    "..|.|.|.|.\n",
    ".#+-^-+-+.\n",
    ".+----+O#.\n",
    "#+----+...\n",
    "......#...\n",
    "```\n",
    "\n",
    "Option four, put an alchemical retroencabulator near the bottom left corner:\n",
    "\n",
    "```\n",
    "....#.....\n",
    "....+---+#\n",
    "....|...|.\n",
    "..#.|...|.\n",
    "..+-+-+#|.\n",
    "..|.|.|.|.\n",
    ".#+-^-+-+.\n",
    "..|...|.#.\n",
    "#O+---+...\n",
    "......#...\n",
    "```\n",
    "\n",
    "Option five, put the alchemical retroencabulator a bit to the right instead:\n",
    "\n",
    "```\n",
    "....#.....\n",
    "....+---+#\n",
    "....|...|.\n",
    "..#.|...|.\n",
    "..+-+-+#|.\n",
    "..|.|.|.|.\n",
    ".#+-^-+-+.\n",
    "....|.|.#.\n",
    "#..O+-+...\n",
    "......#...\n",
    "```\n",
    "\n",
    "Option six, put a tank of sovereign glue right next to the tank of universal solvent:\n",
    "\n",
    "```\n",
    "....#.....\n",
    "....+---+#\n",
    "....|...|.\n",
    "..#.|...|.\n",
    "..+-+-+#|.\n",
    "..|.|.|.|.\n",
    ".#+-^-+-+.\n",
    ".+----++#.\n",
    "#+----++..\n",
    "......#O..\n",
    "```\n",
    "\n",
    "It doesn't really matter what you choose to use as an obstacle so long as you and The Historians can put it into position without the guard noticing. The important thing is having enough options that you can find one that minimizes time paradoxes, and in this example, there are 6 different positions you could choose.\n",
    "\n",
    "You need to get the guard stuck in a loop by adding a single new obstruction. How many different positions could you choose for this obstruction?"
   ]
  },
  {
   "cell_type": "markdown",
   "metadata": {},
   "source": [
    "### attempt 1"
   ]
  },
  {
   "cell_type": "markdown",
   "metadata": {},
   "source": [
    "a loop-causing obstruction is one where:\n",
    "- guard is on a previously visited pos\n",
    "- guard has orientation which is a left turn from last visit\n",
    "- obstruction forces a right turn\n",
    "\n",
    "so:\n",
    "- track visit count and direction. \n",
    "- notice visit #2. check if on 2nd visit, direction is one left turn from last visit\n",
    "-"
   ]
  },
  {
   "cell_type": "markdown",
   "metadata": {},
   "source": [
    "> **Meta-analysis**: In retrospect this analysis was INCORRECT in that it did not include all possible conditions for a loop-causing obustrction. \n",
    "> \n",
    "> I reached this incorrect analysis by _not looking at enough examples_. I looked at only the first 2-3 examples, and did not notice that example 4 did not meet this pattern.\n",
    "> \n",
    "> This error meant I went down a blind alley below, developing a function which identifies locations on the path which are only imperfectly predictive of opportunities to place an obstruction"
   ]
  },
  {
   "cell_type": "markdown",
   "metadata": {},
   "source": [
    "To track visits, I will migrate the type of `visited`:\n",
    "- set[Pos]\n",
    "- dict[Pos:[Direction]]"
   ]
  },
  {
   "cell_type": "code",
   "execution_count": 69,
   "metadata": {},
   "outputs": [],
   "source": [
    "import copy\n",
    "# redefining\n",
    "def starting_map_state_visited(mmap):\n",
    "    direction_dict = {Direction.north:\"^\",Direction.east:\">\",Direction.west:\"<\",Direction.south:\"v\"}\n",
    "    g_to_dir = {v:k for k,v in direction_dict.items()}\n",
    "    def f():\n",
    "        for y,line in enumerate(mmap):\n",
    "            for x,ch in enumerate(line):\n",
    "                if ch in g_to_dir:\n",
    "                    initial_pos = (x,y)\n",
    "                    initial_dir = g_to_dir[ch]\n",
    "                    retval = State()\n",
    "                    retval.pos = initial_pos\n",
    "                    retval.direction = initial_dir\n",
    "                    return retval\n",
    "        print(\"error. map had no guard on it.\")\n",
    "        return None\n",
    "    initial_state = f()\n",
    "    (x,y) = initial_state.pos\n",
    "    mmap = copy.copy(mmap)\n",
    "    mmap[y] = mmap[y][:x] + '.' + mmap[y][x+1:]\n",
    "    visited = dict()\n",
    "    visited[(x,y)] = [initial_state.direction]\n",
    "    return (initial_state, visited, mmap)"
   ]
  },
  {
   "cell_type": "markdown",
   "metadata": {},
   "source": [
    "> **Meta-analysis**: Tagging redefinitions as \"redefining\" seems like a good compromise. It means I don't need to update every other function that depends on the existing name, I don't obscure the original implementation if I need to go back to it, and I can still run the notebook top to bottom. "
   ]
  },
  {
   "cell_type": "code",
   "execution_count": 31,
   "metadata": {},
   "outputs": [],
   "source": [
    "# redefining\n",
    "def evolve(state:State,visited:dict,mmap:list[str]) -> tuple[State,set]:\n",
    "    new_state = compute_next_guard_state(state,mmap)\n",
    "    if content(new_state.pos,mmap) != Content.exit:\n",
    "        new_visited = copy.copy(visited)\n",
    "        new_visited.setdefault(new_state.pos,[]).append(new_state.direction)\n",
    "    else:\n",
    "        new_visited = visited\n",
    "    return (new_state,new_visited)"
   ]
  },
  {
   "cell_type": "code",
   "execution_count": 32,
   "metadata": {},
   "outputs": [
    {
     "data": {
      "text/plain": [
       "41"
      ]
     },
     "execution_count": 32,
     "metadata": {},
     "output_type": "execute_result"
    }
   ],
   "source": [
    "final_visited = wander(sample)\n",
    "len(final_visited)"
   ]
  },
  {
   "cell_type": "code",
   "execution_count": 33,
   "metadata": {},
   "outputs": [
    {
     "data": {
      "text/plain": [
       "{(4, 6): [<Direction.north: 1>, <Direction.west: 4>],\n",
       " (4, 5): [<Direction.north: 1>],\n",
       " (4, 4): [<Direction.north: 1>, <Direction.east: 3>],\n",
       " (4, 3): [<Direction.north: 1>],\n",
       " (4, 2): [<Direction.north: 1>],\n",
       " (4, 1): [<Direction.north: 1>, <Direction.east: 3>],\n",
       " (5, 1): [<Direction.east: 3>],\n",
       " (6, 1): [<Direction.east: 3>],\n",
       " (7, 1): [<Direction.east: 3>],\n",
       " (8, 1): [<Direction.east: 3>, <Direction.south: 2>],\n",
       " (8, 2): [<Direction.south: 2>],\n",
       " (8, 3): [<Direction.south: 2>],\n",
       " (8, 4): [<Direction.south: 2>],\n",
       " (8, 5): [<Direction.south: 2>],\n",
       " (8, 6): [<Direction.south: 2>, <Direction.west: 4>],\n",
       " (7, 6): [<Direction.west: 4>],\n",
       " (6, 6): [<Direction.west: 4>, <Direction.south: 2>],\n",
       " (5, 6): [<Direction.west: 4>],\n",
       " (3, 6): [<Direction.west: 4>],\n",
       " (2, 6): [<Direction.west: 4>, <Direction.north: 1>],\n",
       " (2, 5): [<Direction.north: 1>],\n",
       " (2, 4): [<Direction.north: 1>, <Direction.east: 3>],\n",
       " (3, 4): [<Direction.east: 3>],\n",
       " (5, 4): [<Direction.east: 3>],\n",
       " (6, 4): [<Direction.east: 3>, <Direction.south: 2>],\n",
       " (6, 5): [<Direction.south: 2>],\n",
       " (6, 7): [<Direction.south: 2>, <Direction.east: 3>],\n",
       " (6, 8): [<Direction.south: 2>, <Direction.west: 4>],\n",
       " (5, 8): [<Direction.west: 4>],\n",
       " (4, 8): [<Direction.west: 4>],\n",
       " (3, 8): [<Direction.west: 4>],\n",
       " (2, 8): [<Direction.west: 4>],\n",
       " (1, 8): [<Direction.west: 4>, <Direction.north: 1>],\n",
       " (1, 7): [<Direction.north: 1>, <Direction.east: 3>],\n",
       " (2, 7): [<Direction.east: 3>],\n",
       " (3, 7): [<Direction.east: 3>],\n",
       " (4, 7): [<Direction.east: 3>],\n",
       " (5, 7): [<Direction.east: 3>],\n",
       " (7, 7): [<Direction.east: 3>, <Direction.south: 2>],\n",
       " (7, 8): [<Direction.south: 2>],\n",
       " (7, 9): [<Direction.south: 2>]}"
      ]
     },
     "execution_count": 33,
     "metadata": {},
     "output_type": "execute_result"
    }
   ],
   "source": [
    "final_visited"
   ]
  },
  {
   "cell_type": "code",
   "execution_count": 34,
   "metadata": {},
   "outputs": [],
   "source": [
    "def find_loop_chances(visited:dict):\n",
    "    def has_second_visit(pos): return len(visited[pos]) > 1\n",
    "    def oriented_left_since_last(pos):\n",
    "        first_orientation = visited[pos][0]\n",
    "        second_orientation = visited[pos][1]\n",
    "        retval = (first_orientation,second_orientation) in [\n",
    "            (Direction.north,Direction.west),\n",
    "            (Direction.west,Direction.south),\n",
    "            (Direction.south,Direction.east),\n",
    "            (Direction.east,Direction.north),\n",
    "            ]\n",
    "        return retval\n",
    "    return [pos for pos in visited.keys() if has_second_visit(pos) and oriented_left_since_last(pos)]"
   ]
  },
  {
   "cell_type": "code",
   "execution_count": 35,
   "metadata": {},
   "outputs": [],
   "source": [
    "lcs = find_loop_chances(final_visited)"
   ]
  },
  {
   "cell_type": "code",
   "execution_count": 36,
   "metadata": {},
   "outputs": [
    {
     "data": {
      "text/plain": [
       "3"
      ]
     },
     "execution_count": 36,
     "metadata": {},
     "output_type": "execute_result"
    }
   ],
   "source": [
    "len(lcs)"
   ]
  },
  {
   "cell_type": "code",
   "execution_count": 37,
   "metadata": {},
   "outputs": [
    {
     "data": {
      "text/plain": [
       "[(4, 6), (6, 6), (6, 7)]"
      ]
     },
     "execution_count": 37,
     "metadata": {},
     "output_type": "execute_result"
    }
   ],
   "source": [
    "lcs"
   ]
  },
  {
   "cell_type": "markdown",
   "metadata": {},
   "source": [
    "These are too few. There should be six. Do I have the right anaysis of how to find these spots?"
   ]
  },
  {
   "cell_type": "code",
   "execution_count": 38,
   "metadata": {},
   "outputs": [
    {
     "name": "stdout",
     "output_type": "stream",
     "text": [
      ". (0,0) . (1,0) . (2,0) . (3,0) # (4,0) . (5,0) . (6,0) . (7,0) . (8,0) . (9,0) \n",
      ". (0,1) . (1,1) . (2,1) . (3,1) 2 (4,1) 1 (5,1) 1 (6,1) 1 (7,1) 2 (8,1) # (9,1) \n",
      ". (0,2) . (1,2) . (2,2) . (3,2) 1 (4,2) . (5,2) . (6,2) . (7,2) 1 (8,2) . (9,2) \n",
      ". (0,3) . (1,3) # (2,3) . (3,3) 1 (4,3) . (5,3) . (6,3) . (7,3) 1 (8,3) . (9,3) \n",
      ". (0,4) . (1,4) 2 (2,4) 1 (3,4) 2 (4,4) 1 (5,4) 2 (6,4) # (7,4) 1 (8,4) . (9,4) \n",
      ". (0,5) . (1,5) 1 (2,5) . (3,5) 1 (4,5) . (5,5) 1 (6,5) . (7,5) 1 (8,5) . (9,5) \n",
      ". (0,6) # (1,6) 2 (2,6) 1 (3,6) 2 (4,6) 1 (5,6) 2 (6,6) 1 (7,6) 2 (8,6) . (9,6) \n",
      ". (0,7) 2 (1,7) 1 (2,7) 1 (3,7) 1 (4,7) 1 (5,7) 2 (6,7) 2 (7,7) # (8,7) . (9,7) \n",
      "# (0,8) 2 (1,8) 1 (2,8) 1 (3,8) 1 (4,8) 1 (5,8) 2 (6,8) 1 (7,8) . (8,8) . (9,8) \n",
      ". (0,9) . (1,9) . (2,9) . (3,9) . (4,9) . (5,9) # (6,9) 1 (7,9) . (8,9) . (9,9) \n"
     ]
    }
   ],
   "source": [
    "# redefining\n",
    "def print_map(m,visited:dict|None=None,state:State|None=None):\n",
    "    for line_i,line in enumerate(m):\n",
    "        for x,ch in enumerate(line):\n",
    "            if visited is not None and (x,line_i) in visited: \n",
    "                ch = str( len( visited[(x,line_i)] ) )\n",
    "            if state is not None and state.pos==(x,line_i):\n",
    "                ch = {Direction.north:\"^\",Direction.east:\">\",Direction.west:\"<\",Direction.south:\"v\"}[state.direction]\n",
    "            print(f\"{ch} ({x},{line_i}) \",end=\"\")\n",
    "        print()\n",
    "print_map(m,visited=final_visited)"
   ]
  },
  {
   "cell_type": "markdown",
   "metadata": {},
   "source": [
    "My criteria are wrong. the loop blocker opportunity when guard is at 2,8 westbound is not his second time htere."
   ]
  },
  {
   "cell_type": "markdown",
   "metadata": {},
   "source": [
    "> **Meta-analysis**: Here is where I realized that my original analysis of a rule for finding places to put blockers was incorrect, because it did not produce the result I knew to be correct for the sample.\n",
    "> \n",
    "> At this point, I had a choice: (1) re-commit to the broad approach of finding an analytical way to recognize \"block spots\" without simulating paths, or (2) start simulating paths.\n",
    ">\n",
    "> I chose (2), and I chose to do it in the simplest possible way, with a brute force search.\n",
    ">\n",
    "> Maybe what I _should_ have done was study the example cases in more detail to fortify my intuition. Why didn't I? I think, because it required awkward decoding to map coordinates to positions on a tiny ASCII grid in another part of the notebook. So I was avoiding a tedious, hi-focus data task because I was lazy perhaps?"
   ]
  },
  {
   "cell_type": "markdown",
   "metadata": {},
   "source": [
    "### attempt 2: brute force"
   ]
  },
  {
   "cell_type": "markdown",
   "metadata": {},
   "source": [
    "Another way to find loops: brute force. Test every position. How? Put a blocker there, and then set the gaurd wandering. and detect loops."
   ]
  },
  {
   "cell_type": "code",
   "execution_count": 40,
   "metadata": {},
   "outputs": [],
   "source": [
    "def try_wander(mmap,plus_blocker) -> bool:\n",
    "    # returns true if it find_loop_chances\n",
    "    pass"
   ]
  },
  {
   "cell_type": "code",
   "execution_count": 41,
   "metadata": {},
   "outputs": [],
   "source": [
    "def wander_until(mmap,verbose=False):\n",
    "    (state,visited,init_map) = starting_map_state_visited(mmap)\n",
    "    if verbose: print_map(m=init_map,state=state,visited=visited)\n",
    "    while True:\n",
    "        if content(pos=state.pos,mmap=init_map) == Content.exit:\n",
    "            return visited,\"exit\"\n",
    "        elif has_looped(state,visited):\n",
    "            return visited,\"looped\"\n",
    "        else:\n",
    "            (state,visited) = evolve(state=state,visited=visited,mmap=init_map)\n",
    "            if verbose: print_map(m=init_map,state=state,visited=visited)\n",
    "    return visited,\"error\""
   ]
  },
  {
   "cell_type": "code",
   "execution_count": 42,
   "metadata": {},
   "outputs": [],
   "source": [
    "def has_looped(state,visited):\n",
    "    visits = visited[state.pos]\n",
    "    return visits[-1] in visits[:-1]"
   ]
  },
  {
   "cell_type": "code",
   "execution_count": 43,
   "metadata": {},
   "outputs": [],
   "source": [
    "def try_wander(mmap,plus_blocker_pos) -> bool:\n",
    "    x,y = plus_blocker_pos\n",
    "    mmap = copy.copy(mmap)\n",
    "    mmap[y] = mmap[y][:x] + '#' + mmap[y][x+1:]\n",
    "    (_,end_reason) = wander_until(mmap)\n",
    "    return end_reason == \"looped\""
   ]
  },
  {
   "cell_type": "code",
   "execution_count": 44,
   "metadata": {},
   "outputs": [
    {
     "data": {
      "text/plain": [
       "False"
      ]
     },
     "execution_count": 44,
     "metadata": {},
     "output_type": "execute_result"
    }
   ],
   "source": [
    "try_wander(parse_map(sample), (0,0))"
   ]
  },
  {
   "cell_type": "code",
   "execution_count": 45,
   "metadata": {},
   "outputs": [
    {
     "data": {
      "text/plain": [
       "True"
      ]
     },
     "execution_count": 45,
     "metadata": {},
     "output_type": "execute_result"
    }
   ],
   "source": [
    "try_wander(parse_map(sample), (3,6))"
   ]
  },
  {
   "cell_type": "code",
   "execution_count": 46,
   "metadata": {},
   "outputs": [],
   "source": [
    "def count_blockspots(s):\n",
    "    mm = parse_map(s)\n",
    "    candidates = [(x,y) for y,line in enumerate(mm) for x,ch in enumerate(line) if ch==\".\"]\n",
    "    print(f\"candidates to try: {len(candidates)}\")\n",
    "    t = 0\n",
    "    for pos in candidates:\n",
    "        t += 1 if try_wander(mm,pos) else 0\n",
    "    return t"
   ]
  },
  {
   "cell_type": "code",
   "execution_count": 47,
   "metadata": {},
   "outputs": [
    {
     "name": "stdout",
     "output_type": "stream",
     "text": [
      "candidates to try: 91\n",
      "trying blockspot at pos=(0, 0)\n",
      "trying blockspot at pos=(1, 0)\n",
      "trying blockspot at pos=(2, 0)\n",
      "trying blockspot at pos=(3, 0)\n",
      "trying blockspot at pos=(5, 0)\n",
      "trying blockspot at pos=(6, 0)\n",
      "trying blockspot at pos=(7, 0)\n",
      "trying blockspot at pos=(8, 0)\n",
      "trying blockspot at pos=(9, 0)\n",
      "trying blockspot at pos=(0, 1)\n",
      "trying blockspot at pos=(1, 1)\n",
      "trying blockspot at pos=(2, 1)\n",
      "trying blockspot at pos=(3, 1)\n",
      "trying blockspot at pos=(4, 1)\n",
      "trying blockspot at pos=(5, 1)\n",
      "trying blockspot at pos=(6, 1)\n",
      "trying blockspot at pos=(7, 1)\n",
      "trying blockspot at pos=(8, 1)\n",
      "trying blockspot at pos=(0, 2)\n",
      "trying blockspot at pos=(1, 2)\n",
      "trying blockspot at pos=(2, 2)\n",
      "trying blockspot at pos=(3, 2)\n",
      "trying blockspot at pos=(4, 2)\n",
      "trying blockspot at pos=(5, 2)\n",
      "trying blockspot at pos=(6, 2)\n",
      "trying blockspot at pos=(7, 2)\n",
      "trying blockspot at pos=(8, 2)\n",
      "trying blockspot at pos=(9, 2)\n",
      "trying blockspot at pos=(0, 3)\n",
      "trying blockspot at pos=(1, 3)\n",
      "trying blockspot at pos=(3, 3)\n",
      "trying blockspot at pos=(4, 3)\n",
      "trying blockspot at pos=(5, 3)\n",
      "trying blockspot at pos=(6, 3)\n",
      "trying blockspot at pos=(7, 3)\n",
      "trying blockspot at pos=(8, 3)\n",
      "trying blockspot at pos=(9, 3)\n",
      "trying blockspot at pos=(0, 4)\n",
      "trying blockspot at pos=(1, 4)\n",
      "trying blockspot at pos=(2, 4)\n",
      "trying blockspot at pos=(3, 4)\n",
      "trying blockspot at pos=(4, 4)\n",
      "trying blockspot at pos=(5, 4)\n",
      "trying blockspot at pos=(6, 4)\n",
      "trying blockspot at pos=(8, 4)\n",
      "trying blockspot at pos=(9, 4)\n",
      "trying blockspot at pos=(0, 5)\n",
      "trying blockspot at pos=(1, 5)\n",
      "trying blockspot at pos=(2, 5)\n",
      "trying blockspot at pos=(3, 5)\n",
      "trying blockspot at pos=(4, 5)\n",
      "trying blockspot at pos=(5, 5)\n",
      "trying blockspot at pos=(6, 5)\n",
      "trying blockspot at pos=(7, 5)\n",
      "trying blockspot at pos=(8, 5)\n",
      "trying blockspot at pos=(9, 5)\n",
      "trying blockspot at pos=(0, 6)\n",
      "trying blockspot at pos=(2, 6)\n",
      "trying blockspot at pos=(3, 6)\n",
      "trying blockspot at pos=(5, 6)\n",
      "trying blockspot at pos=(6, 6)\n",
      "trying blockspot at pos=(7, 6)\n",
      "trying blockspot at pos=(8, 6)\n",
      "trying blockspot at pos=(9, 6)\n",
      "trying blockspot at pos=(0, 7)\n",
      "trying blockspot at pos=(1, 7)\n",
      "trying blockspot at pos=(2, 7)\n",
      "trying blockspot at pos=(3, 7)\n",
      "trying blockspot at pos=(4, 7)\n",
      "trying blockspot at pos=(5, 7)\n",
      "trying blockspot at pos=(6, 7)\n",
      "trying blockspot at pos=(7, 7)\n",
      "trying blockspot at pos=(9, 7)\n",
      "trying blockspot at pos=(1, 8)\n",
      "trying blockspot at pos=(2, 8)\n",
      "trying blockspot at pos=(3, 8)\n",
      "trying blockspot at pos=(4, 8)\n",
      "trying blockspot at pos=(5, 8)\n",
      "trying blockspot at pos=(6, 8)\n",
      "trying blockspot at pos=(7, 8)\n",
      "trying blockspot at pos=(8, 8)\n",
      "trying blockspot at pos=(9, 8)\n",
      "trying blockspot at pos=(0, 9)\n",
      "trying blockspot at pos=(1, 9)\n",
      "trying blockspot at pos=(2, 9)\n",
      "trying blockspot at pos=(3, 9)\n",
      "trying blockspot at pos=(4, 9)\n",
      "trying blockspot at pos=(5, 9)\n",
      "trying blockspot at pos=(7, 9)\n",
      "trying blockspot at pos=(8, 9)\n",
      "trying blockspot at pos=(9, 9)\n"
     ]
    },
    {
     "data": {
      "text/plain": [
       "6"
      ]
     },
     "execution_count": 47,
     "metadata": {},
     "output_type": "execute_result"
    }
   ],
   "source": [
    "count_blockspots(sample)"
   ]
  },
  {
   "cell_type": "code",
   "execution_count": null,
   "metadata": {
    "collapsed": true
   },
   "outputs": [
    {
     "name": "stdout",
     "output_type": "stream",
     "text": [
      "trying blockspot at pos=(0, 0)\n",
      "trying blockspot at pos=(1, 0)\n",
      "trying blockspot at pos=(2, 0)\n",
      "trying blockspot at pos=(3, 0)\n",
      "trying blockspot at pos=(4, 0)\n",
      "trying blockspot at pos=(5, 0)\n",
      "trying blockspot at pos=(6, 0)\n",
      "trying blockspot at pos=(7, 0)\n",
      "trying blockspot at pos=(8, 0)\n",
      "trying blockspot at pos=(9, 0)\n",
      "trying blockspot at pos=(10, 0)\n",
      "trying blockspot at pos=(11, 0)\n",
      "trying blockspot at pos=(12, 0)\n",
      "trying blockspot at pos=(14, 0)\n",
      "trying blockspot at pos=(15, 0)\n",
      "trying blockspot at pos=(16, 0)\n",
      "trying blockspot at pos=(17, 0)\n",
      "trying blockspot at pos=(18, 0)\n",
      "trying blockspot at pos=(19, 0)\n",
      "trying blockspot at pos=(20, 0)\n",
      "trying blockspot at pos=(21, 0)\n",
      "trying blockspot at pos=(22, 0)\n",
      "trying blockspot at pos=(23, 0)\n",
      "trying blockspot at pos=(24, 0)\n",
      "trying blockspot at pos=(25, 0)\n",
      "trying blockspot at pos=(26, 0)\n",
      "trying blockspot at pos=(27, 0)\n",
      "trying blockspot at pos=(28, 0)\n",
      "trying blockspot at pos=(29, 0)\n",
      "trying blockspot at pos=(30, 0)\n",
      "trying blockspot at pos=(31, 0)\n",
      "trying blockspot at pos=(32, 0)\n",
      "trying blockspot at pos=(33, 0)\n",
      "trying blockspot at pos=(34, 0)\n",
      "trying blockspot at pos=(35, 0)\n",
      "trying blockspot at pos=(36, 0)\n",
      "trying blockspot at pos=(37, 0)\n",
      "trying blockspot at pos=(38, 0)\n",
      "trying blockspot at pos=(39, 0)\n",
      "trying blockspot at pos=(40, 0)\n",
      "trying blockspot at pos=(41, 0)\n",
      "trying blockspot at pos=(42, 0)\n",
      "trying blockspot at pos=(43, 0)\n",
      "trying blockspot at pos=(44, 0)\n",
      "trying blockspot at pos=(45, 0)\n",
      "trying blockspot at pos=(46, 0)\n",
      "trying blockspot at pos=(47, 0)\n",
      "trying blockspot at pos=(48, 0)\n",
      "trying blockspot at pos=(49, 0)\n",
      "trying blockspot at pos=(50, 0)\n",
      "trying blockspot at pos=(51, 0)\n",
      "trying blockspot at pos=(52, 0)\n",
      "trying blockspot at pos=(53, 0)\n",
      "trying blockspot at pos=(54, 0)\n",
      "trying blockspot at pos=(55, 0)\n",
      "trying blockspot at pos=(56, 0)\n",
      "trying blockspot at pos=(57, 0)\n",
      "trying blockspot at pos=(58, 0)\n",
      "trying blockspot at pos=(59, 0)\n",
      "trying blockspot at pos=(60, 0)\n",
      "trying blockspot at pos=(61, 0)\n",
      "trying blockspot at pos=(62, 0)\n",
      "trying blockspot at pos=(63, 0)\n",
      "trying blockspot at pos=(64, 0)\n",
      "trying blo\n",
      "========== TRUNCATED ==========\n",
      "\u001b[1;32m      3\u001b[0m new_state \u001b[38;5;241m=\u001b[39m compute_next_guard_state(state,mmap)\n",
      "\u001b[1;32m      4\u001b[0m \u001b[38;5;28;01mif\u001b[39;00m content(new_state\u001b[38;5;241m.\u001b[39mpos,mmap) \u001b[38;5;241m!=\u001b[39m Content\u001b[38;5;241m.\u001b[39mexit:\n",
      "\u001b[0;32m----> 5\u001b[0m     new_visited \u001b[38;5;241m=\u001b[39m \u001b[43mcopy\u001b[49m\u001b[38;5;241;43m.\u001b[39;49m\u001b[43mcopy\u001b[49m\u001b[43m(\u001b[49m\u001b[43mvisited\u001b[49m\u001b[43m)\u001b[49m\n",
      "\u001b[1;32m      6\u001b[0m     new_visited\u001b[38;5;241m.\u001b[39msetdefault(new_state\u001b[38;5;241m.\u001b[39mpos,[])\u001b[38;5;241m.\u001b[39mappend(new_state\u001b[38;5;241m.\u001b[39mdirection)\n",
      "\u001b[1;32m      7\u001b[0m \u001b[38;5;28;01melse\u001b[39;00m:\n",
      "\n",
      "File \u001b[0;32m/usr/local/lib/python3.11/copy.py:66\u001b[0m, in \u001b[0;36mcopy\u001b[0;34m(x)\u001b[0m\n",
      "\u001b[1;32m     62\u001b[0m     PyStringMap \u001b[38;5;241m=\u001b[39m \u001b[38;5;28;01mNone\u001b[39;00m\n",
      "\u001b[1;32m     64\u001b[0m __all__ \u001b[38;5;241m=\u001b[39m [\u001b[38;5;124m\"\u001b[39m\u001b[38;5;124mError\u001b[39m\u001b[38;5;124m\"\u001b[39m, \u001b[38;5;124m\"\u001b[39m\u001b[38;5;124mcopy\u001b[39m\u001b[38;5;124m\"\u001b[39m, \u001b[38;5;124m\"\u001b[39m\u001b[38;5;124mdeepcopy\u001b[39m\u001b[38;5;124m\"\u001b[39m]\n",
      "\u001b[0;32m---> 66\u001b[0m \u001b[38;5;28;01mdef\u001b[39;00m \u001b[38;5;21mcopy\u001b[39m(x):\n",
      "\u001b[1;32m     67\u001b[0m \u001b[38;5;250m    \u001b[39m\u001b[38;5;124;03m\"\"\"Shallow copy operation on arbitrary Python objects.\u001b[39;00m\n",
      "\u001b[1;32m     68\u001b[0m \n",
      "\u001b[1;32m     69\u001b[0m \u001b[38;5;124;03m    See the module's __doc__ string for more info.\u001b[39;00m\n",
      "\u001b[1;32m     70\u001b[0m \u001b[38;5;124;03m    \"\"\"\u001b[39;00m\n",
      "\u001b[1;32m     72\u001b[0m     \u001b[38;5;28mcls\u001b[39m \u001b[38;5;241m=\u001b[39m \u001b[38;5;28mtype\u001b[39m(x)\n",
      "\n",
      "File \u001b[0;32m/usr/local/lib/python3.11/site-packages/execnb/shell.py:92\u001b[0m, in \u001b[0;36mrun_cell.<locals>.handler\u001b[0;34m(*args)\u001b[0m\n",
      "\u001b[1;32m     90\u001b[0m \u001b[38;5;28;01mif\u001b[39;00m \u001b[38;5;129;01mnot\u001b[39;00m timeout: timeout \u001b[38;5;241m=\u001b[39m \u001b[38;5;28mself\u001b[39m\u001b[38;5;241m.\u001b[39mtimeout\n",
      "\u001b[1;32m     91\u001b[0m \u001b[38;5;28;01mif\u001b[39;00m timeout:\n",
      "\u001b[0;32m---> 92\u001b[0m     \u001b[38;5;28;01mdef\u001b[39;00m \u001b[38;5;21mhandler\u001b[39m(\u001b[38;5;241m*\u001b[39margs): \u001b[38;5;28;01mraise\u001b[39;00m \u001b[38;5;167;01mTimeoutError\u001b[39;00m()\n",
      "\u001b[1;32m     93\u001b[0m     signal\u001b[38;5;241m.\u001b[39msignal(signal\u001b[38;5;241m.\u001b[39mSIGALRM, handler)\n",
      "\u001b[1;32m     94\u001b[0m     signal\u001b[38;5;241m.\u001b[39malarm(timeout)\n",
      "\n",
      "\u001b[0;31mTimeoutError\u001b[0m: \n",
      "\n",
      "========== MIDDLE OF OUTPUT TRUNCATED ==========\n"
     ]
    },
    {
     "ename": "TimeoutError",
     "evalue": "",
     "output_type": "error",
     "traceback": [
      "Traceback (most recent call last):\n",
      "  File \"/usr/local/lib/python3.11/site-packages/IPython/core/interactiveshell.py\", line 3577, in run_code\n    exec(code_obj, self.user_global_ns, self.user_ns)\n",
      "  File \"<ipython-input-1-578c3af88205>\", line 1, in <module>\n    count_blockspots(inp)\n",
      "  File \"<ipython-input-1-72e81c678aec>\", line 7, in count_blockspots\n    t += 1 if try_wander(mm,pos) else 0\n              ^^^^^^^^^^^^^^^^^^\n",
      "  File \"<ipython-input-1-9de23eb8bda0>\", line 5, in try_wander\n    (_,end_reason) = wander_until(mmap)\n                     ^^^^^^^^^^^^^^^^^^\n",
      "  File \"<ipython-input-1-770aad1f1c8e>\", line 10, in wander_until\n    (state,visited) = evolve(state=state,visited=visited,mmap=init_map)\n                      ^^^^^^^^^^^^^^^^^^^^^^^^^^^^^^^^^^^^^^^^^^^^^^^^^\n",
      "  File \"<ipython-input-1-59a6dfa684e2>\", line 5, in evolve\n    new_visited = copy.copy(visited)\n                  ^^^^^^^^^^^^^^^^^^\n",
      "  File \"/usr/local/lib/python3.11/copy.py\", line 66, in copy\n    def copy(x):\n    \n",
      "  File \"/usr/local/lib/python3.11/site-packages/execnb/shell.py\", line 92, in handler\n    def handler(*args): raise TimeoutError()\n                        ^^^^^^^^^^^^^^^^^^^^\n",
      "TimeoutError\n"
     ]
    }
   ],
   "source": [
    "count_blockspots(inp)"
   ]
  },
  {
   "cell_type": "markdown",
   "metadata": {},
   "source": [
    "> **Meta-analysis**: Here I realize that my brute force (BF) approach is not performant, and I need to consider if there are ways to make it work without going back to attempt 1, which is analysis."
   ]
  },
  {
   "cell_type": "code",
   "execution_count": 48,
   "metadata": {},
   "outputs": [],
   "source": [
    "mm = parse_map(inp)\n",
    "\n",
    "candidates = ((x,y) for y,line in enumerate(mm) for x,ch in enumerate(line) if ch==\".\")"
   ]
  },
  {
   "cell_type": "code",
   "execution_count": 49,
   "metadata": {},
   "outputs": [],
   "source": [
    "import itertools"
   ]
  },
  {
   "cell_type": "code",
   "execution_count": 50,
   "metadata": {},
   "outputs": [
    {
     "data": {
      "text/plain": [
       "16092"
      ]
     },
     "execution_count": 50,
     "metadata": {},
     "output_type": "execute_result"
    }
   ],
   "source": [
    "len(list(candidates))"
   ]
  },
  {
   "cell_type": "markdown",
   "metadata": {},
   "source": [
    "**AI Prompt**\n",
    "\n",
    "Consider the above. Can you see the approach I am trying to use in order to count the number of locations where I can add an obstacle that produces a loop? What is going wrong? I am wondering if there is a bug in my code which causes an infinite loop, or if my approach is so ineffcient that it is running out of time."
   ]
  },
  {
   "cell_type": "markdown",
   "metadata": {},
   "source": [
    "**AI Response**\n",
    "\n",
    "Looking at your code, your approach seems sound in principle:\n",
    "1. You're trying each empty space as a potential blocker location\n",
    "2. For each location, you're creating a modified map with a blocker there\n",
    "3. You're simulating the guard's movement until either they exit or loop\n",
    "4. You're counting how many locations cause loops\n",
    "\n",
    "The `try_wander` function seems correct, and it works on the sample data for individual positions.\n",
    "\n",
    "However, with 16,092 candidate positions in the full input, and each position potentially requiring many steps to determine if it causes a loop, this could indeed be very slow. The timeout error suggests this is a performance issue rather than an infinite loop.\n",
    "\n",
    "Would you like to explore some ways to make this more efficient? For instance, we could:\n",
    "1. Reduce the candidate positions by only considering those near the guard's original path\n",
    "2. Optimize the loop detection\n",
    "3. Add early exit conditions\n",
    "\n",
    "Which approach would you like to explore first?"
   ]
  },
  {
   "cell_type": "markdown",
   "metadata": {},
   "source": [
    "### attempt 3: brute-force, but filtered to \"neighborhood\" of path"
   ]
  },
  {
   "cell_type": "markdown",
   "metadata": {},
   "source": [
    "> **Meta-analysis**: In retrospect, I think I was mislead by the AI's suggestion to consider positions \"enar the guard's original path\" rather than on the path."
   ]
  },
  {
   "cell_type": "code",
   "execution_count": 51,
   "metadata": {},
   "outputs": [],
   "source": [
    "unobstructed_path = wander_until(parse_map(inp))"
   ]
  },
  {
   "cell_type": "code",
   "execution_count": 52,
   "metadata": {},
   "outputs": [
    {
     "data": {
      "text/plain": [
       "4647"
      ]
     },
     "execution_count": 52,
     "metadata": {},
     "output_type": "execute_result"
    }
   ],
   "source": [
    "len(unobstructed_path[0])"
   ]
  },
  {
   "cell_type": "code",
   "execution_count": 53,
   "metadata": {},
   "outputs": [
    {
     "data": {
      "text/plain": [
       "[(1, 7), (3, 7), (2, 6), (2, 8)]"
      ]
     },
     "execution_count": 53,
     "metadata": {},
     "output_type": "execute_result"
    }
   ],
   "source": [
    "def neighborhood(pos):\n",
    "    diffs = [(-1,0),(1,0),(0,-1),(0,1)]\n",
    "    neighbors = ((dx+pos[0],dy+pos[1]) for (dx,dy) in diffs)\n",
    "    return neighbors\n",
    "list(neighborhood((2,7)))"
   ]
  },
  {
   "cell_type": "code",
   "execution_count": 54,
   "metadata": {},
   "outputs": [
    {
     "data": {
      "text/plain": [
       "10405"
      ]
     },
     "execution_count": 54,
     "metadata": {},
     "output_type": "execute_result"
    }
   ],
   "source": [
    "import itertools, functools\n",
    "periphery = functools.reduce(lambda x,y: x | y, (set(neighborhood(pos)) for pos in unobstructed_path[0].keys()))\n",
    "len(periphery)"
   ]
  },
  {
   "cell_type": "code",
   "execution_count": 55,
   "metadata": {},
   "outputs": [],
   "source": [
    "def in_map(pos,mmap):\n",
    "    x,y = pos\n",
    "    ylen = len(mmap)\n",
    "    xlen = len(mmap[0])\n",
    "    return 0 <= y and y < ylen and 0 <= x and x < xlen"
   ]
  },
  {
   "cell_type": "code",
   "execution_count": 56,
   "metadata": {},
   "outputs": [],
   "source": [
    "def is_dot(pos,mmap): return mmap[pos[1]][pos[0]] == \".\""
   ]
  },
  {
   "cell_type": "code",
   "execution_count": 57,
   "metadata": {},
   "outputs": [
    {
     "data": {
      "text/plain": [
       "9935"
      ]
     },
     "execution_count": 57,
     "metadata": {},
     "output_type": "execute_result"
    }
   ],
   "source": [
    "mmap = parse_map(inp)\n",
    "periphery = set(p for p in periphery if in_map(p,mmap) and is_dot(p,mmap))\n",
    "len(periphery)"
   ]
  },
  {
   "cell_type": "markdown",
   "metadata": {},
   "source": [
    "**AI Prompt**\n",
    "\n",
    "Does the above code to define a smaller set of candidates just off the path look correct?"
   ]
  },
  {
   "cell_type": "markdown",
   "metadata": {},
   "source": [
    "> **Meta-analysis**: I think this pattern of asking the AI to have a look at things might be good to do more. If I had a compiler, I'd appreciate the type-checker's feedback. Why not get AI feedback as well?"
   ]
  },
  {
   "cell_type": "markdown",
   "metadata": {},
   "source": [
    "**AI Response**\n",
    "\n",
    "Yes, your approach to reduce candidates looks good! You're:\n",
    "\n",
    "1. Getting all positions adjacent to the guard's unobstructed path using `neighborhood()`\n",
    "2. Combining these into a set with `functools.reduce`\n",
    "3. Filtering to keep only valid positions that are:\n",
    "   - Within map bounds (`in_map()`)\n",
    "   - Currently empty spaces (`is_dot()`)\n",
    "\n",
    "This reduced the candidates from 16,092 to 9,935 positions. While this is still a lot, it's a ~38% reduction and these positions are much more likely to actually create loops since they're near the guard's path.\n",
    "\n",
    "Would you like to try running the loop detection with this smaller set of candidates? Or shall we look at optimizing the loop detection first?"
   ]
  },
  {
   "cell_type": "markdown",
   "metadata": {},
   "source": [
    "**AI Prompt**\n",
    "\n",
    "Do you see any big opportunitis to optimize loop detection?"
   ]
  },
  {
   "cell_type": "markdown",
   "metadata": {},
   "source": [
    "**AI Response**\n",
    "\n",
    "Looking at your current loop detection code, there are a couple of potential optimizations:\n",
    "\n",
    "1. Currently `has_looped()` checks if the latest direction appears in previous visits to that position. However, we know from the problem description that we specifically need a left turn after a previous visit. Your earlier attempt at this logic could be incorporated.\n",
    "\n",
    "2. We might be able to add an early exit condition - if we've visited a position more than twice without finding a loop, we probably won't find one.\n",
    "\n",
    "3. We're creating a new copy of the visited dictionary on every step in `evolve()`. We could potentially modify this to avoid the copying overhead.\n",
    "\n",
    "Would you like to explore any of these optimizations? Or do you see other opportunities I might have missed?"
   ]
  },
  {
   "cell_type": "code",
   "execution_count": 58,
   "metadata": {},
   "outputs": [],
   "source": [
    "def find_path_periphery(s):\n",
    "    mmap = parse_map(s)\n",
    "    unobstructed_path = wander_until(mmap)\n",
    "    def neighborhood(pos):\n",
    "        diffs = [(-1,0),(1,0),(0,-1),(0,1)]\n",
    "        neighbors = ((dx+pos[0],dy+pos[1]) for (dx,dy) in diffs)\n",
    "        return neighbors\n",
    "    import itertools, functools\n",
    "    periphery = functools.reduce(lambda x,y: x | y, (set(neighborhood(pos)) for pos in unobstructed_path[0].keys()))\n",
    "    def in_map(pos,mmap):\n",
    "        x,y = pos\n",
    "        ylen = len(mmap)\n",
    "        xlen = len(mmap[0])\n",
    "        return 0 <= y and y < ylen and 0 <= x and x < xlen\n",
    "    def is_dot(pos,mmap): return mmap[pos[1]][pos[0]] == \".\"\n",
    "    periphery = set(p for p in periphery if in_map(p,mmap) and is_dot(p,mmap))\n",
    "    return periphery"
   ]
  },
  {
   "cell_type": "code",
   "execution_count": 59,
   "metadata": {},
   "outputs": [
    {
     "data": {
      "text/plain": [
       "9935"
      ]
     },
     "execution_count": 59,
     "metadata": {},
     "output_type": "execute_result"
    }
   ],
   "source": [
    "periphery = find_path_periphery(inp)\n",
    "len(periphery)"
   ]
  },
  {
   "cell_type": "code",
   "execution_count": 89,
   "metadata": {},
   "outputs": [],
   "source": [
    "# redefining: searches for blockspots in periphery of unblocked path\n",
    "def count_blockspots(s):\n",
    "    mm = parse_map(s)\n",
    "    candidates = find_path_periphery(s)\n",
    "    print(f\"candidates to try: {len(candidates)}\")\n",
    "    t = 0\n",
    "    for i,pos in enumerate(candidates):\n",
    "        if i % 1000 == 0: print(f\"trying blockspot candidate {i=}\")\n",
    "        t += 1 if try_wander(mm,pos) else 0\n",
    "    return t"
   ]
  },
  {
   "cell_type": "code",
   "execution_count": 90,
   "metadata": {},
   "outputs": [
    {
     "name": "stdout",
     "output_type": "stream",
     "text": [
      "candidates to try: 9935\n",
      "trying blockspot candidate i=0\n",
      "trying blockspot candidate i=1000\n",
      "trying blockspot candidate i=2000\n",
      "trying blockspot candidate i=3000\n",
      "trying blockspot candidate i=4000\n",
      "trying blockspot candidate i=5000\n",
      "trying blockspot candidate i=6000\n",
      "trying blockspot candidate i=7000\n",
      "trying blockspot candidate i=8000\n",
      "trying blockspot candidate i=9000\n",
      "1723\n",
      "CPU times: user 7min 16s, sys: 25.1 ms, total: 7min 16s\n",
      "Wall time: 7min 16s\n"
     ]
    }
   ],
   "source": [
    "%%time\n",
    "answer = count_blockspots(inp)\n",
    "print(answer)"
   ]
  },
  {
   "cell_type": "code",
   "execution_count": 62,
   "metadata": {},
   "outputs": [],
   "source": [
    "answer=1723"
   ]
  },
  {
   "cell_type": "markdown",
   "metadata": {},
   "source": [
    "### attempt 4: further optimizing to try placing blocks only on the path\n",
    "\n",
    "> **Meta-analysis**: This is the analytical point which is obvious now but I missed originally: that the only place one might place an obstruction, is on the unobstructed path!"
   ]
  },
  {
   "cell_type": "code",
   "execution_count": 96,
   "metadata": {},
   "outputs": [],
   "source": [
    "# redefining: searches for blockspots only in the unblocked path\n",
    "def count_blockspots(s):\n",
    "    mm = parse_map(s)\n",
    "    # try placing blockers only on original path\n",
    "    uo_path = wander_until(mm)\n",
    "    candidates = set([pos for pos in uo_path[0].keys() if mm[pos[1]][pos[0]] == '.'])\n",
    "    print(f\"candidates to try: {len(candidates)}\")\n",
    "    t = 0\n",
    "    for i,pos in enumerate(candidates):\n",
    "        if i % 1000 == 0: print(f\"at candidate {pos=}\")\n",
    "        t += 1 if try_wander(mm,pos) else 0\n",
    "    return t"
   ]
  },
  {
   "cell_type": "code",
   "execution_count": 97,
   "metadata": {},
   "outputs": [
    {
     "name": "stdout",
     "output_type": "stream",
     "text": [
      "candidates to try: 4646\n",
      "at candidate pos=(67, 59)\n",
      "at candidate pos=(51, 122)\n",
      "at candidate pos=(20, 54)\n",
      "at candidate pos=(20, 101)\n",
      "at candidate pos=(84, 25)\n",
      "CPU times: user 2min 6s, sys: 0 ns, total: 2min 6s\n",
      "Wall time: 2min 6s\n"
     ]
    },
    {
     "data": {
      "text/plain": [
       "1723"
      ]
     },
     "execution_count": 97,
     "metadata": {},
     "output_type": "execute_result"
    }
   ],
   "source": [
    "%%time\n",
    "count_blockspots(inp)"
   ]
  },
  {
   "cell_type": "markdown",
   "metadata": {},
   "source": [
    "### Refinement 5: use AI to generate multiprocessing code"
   ]
  },
  {
   "cell_type": "code",
   "execution_count": 91,
   "metadata": {},
   "outputs": [],
   "source": [
    "%%ai\n",
    "What is a simple way to use multiprocessing to speed the calculation in the last two cells? The variable mm is not mutated between calls to try_wander. Each call of the function does a defensive copy.\n"
   ]
  },
  {
   "cell_type": "markdown",
   "metadata": {},
   "source": [
    "##### Assistant"
   ]
  },
  {
   "cell_type": "markdown",
   "metadata": {},
   "source": [
    "To use multiprocessing to speed up the calculation, you can use Python's `multiprocessing` module. Here's a simple way to modify your code:"
   ]
  },
  {
   "cell_type": "code",
   "execution_count": 92,
   "metadata": {},
   "outputs": [
    {
     "name": "stdout",
     "output_type": "stream",
     "text": [
      "candidates to try: 4646\n",
      "Result: 1723\n"
     ]
    }
   ],
   "source": [
    "import multiprocessing as mp\n",
    "\n",
    "def try_wander_wrapper(args):\n",
    "    mm, pos = args\n",
    "    return 1 if try_wander(mm, pos) else 0\n",
    "\n",
    "def count_blockspots(s):\n",
    "    mm = parse_map(s)\n",
    "    uo_path = wander_until(mm)\n",
    "    candidates = set([pos for pos in uo_path[0].keys() if mm[pos[1]][pos[0]] == '.'])\n",
    "    print(f\"candidates to try: {len(candidates)}\")\n",
    "\n",
    "    # Create a pool of workers\n",
    "    with mp.Pool() as pool:\n",
    "        # Map the try_wander function to all candidates\n",
    "        results = pool.map(try_wander_wrapper, [(mm, pos) for pos in candidates])\n",
    "\n",
    "    return sum(results)\n",
    "\n",
    "# Run the function\n",
    "#result = count_blockspots(inp)\n",
    "#print(f\"Result: {result}\")"
   ]
  },
  {
   "cell_type": "markdown",
   "metadata": {},
   "source": [
    "This modification:\n",
    "\n",
    "1. Creates a wrapper function `try_wander_wrapper` that unpacks the arguments for `try_wander`.\n",
    "2. Uses `multiprocessing.Pool()` to create a pool of worker processes.\n",
    "3. Uses `pool.map()` to apply `try_wander_wrapper` to all candidates in parallel.\n",
    "4. Sums up the results to get the final count.\n",
    "\n",
    "This approach should significantly speed up the calculation by utilizing multiple CPU cores. The exact speedup will depend on your machine's capabilities.\n",
    "\n",
    "Note: Make sure to run this script as the main program (not in an interactive environment) for multiprocessing to work correctly on all platforms."
   ]
  },
  {
   "cell_type": "markdown",
   "metadata": {},
   "source": [
    "##### User"
   ]
  },
  {
   "cell_type": "code",
   "execution_count": 93,
   "metadata": {},
   "outputs": [],
   "source": [
    "%%ai\n",
    "how would I time the above?"
   ]
  },
  {
   "cell_type": "markdown",
   "metadata": {},
   "source": [
    "##### Assistant"
   ]
  },
  {
   "cell_type": "markdown",
   "metadata": {},
   "source": [
    "To time the execution of the multiprocessing code, you can use Python's built-in `time` module. Here's how you can modify the code to include timing:"
   ]
  },
  {
   "cell_type": "code",
   "execution_count": 94,
   "metadata": {},
   "outputs": [
    {
     "name": "stdout",
     "output_type": "stream",
     "text": [
      "candidates to try: 4646\n",
      "Result: 1723\n",
      "Execution time: 26.15 seconds\n"
     ]
    }
   ],
   "source": [
    "import multiprocessing as mp\n",
    "import time\n",
    "\n",
    "def try_wander_wrapper(args):\n",
    "    mm, pos = args\n",
    "    return 1 if try_wander(mm, pos) else 0\n",
    "\n",
    "def count_blockspots(s):\n",
    "    mm = parse_map(s)\n",
    "    uo_path = wander_until(mm)\n",
    "    candidates = set([pos for pos in uo_path[0].keys() if mm[pos[1]][pos[0]] == '.'])\n",
    "    print(f\"candidates to try: {len(candidates)}\")\n",
    "\n",
    "    # Create a pool of workers\n",
    "    with mp.Pool() as pool:\n",
    "        # Map the try_wander function to all candidates\n",
    "        results = pool.map(try_wander_wrapper, [(mm, pos) for pos in candidates])\n",
    "\n",
    "    return sum(results)\n",
    "\n",
    "if __name__ == '__main__':\n",
    "    start_time = time.time()\n",
    "    \n",
    "    result = count_blockspots(inp)\n",
    "    \n",
    "    end_time = time.time()\n",
    "    execution_time = end_time - start_time\n",
    "    \n",
    "    print(f\"Result: {result}\")\n",
    "    print(f\"Execution time: {execution_time:.2f} seconds\")"
   ]
  },
  {
   "cell_type": "markdown",
   "metadata": {},
   "source": [
    "This modification:\n",
    "\n",
    "1. Imports the `time` module.\n",
    "2. Records the start time before calling `count_blockspots`.\n",
    "3. Records the end time after `count_blockspots` completes.\n",
    "4. Calculates and prints the execution time.\n",
    "\n",
    "Run this script, and it will output both the result and the time taken to execute the function.\n",
    "\n",
    "If you want to compare this with the non-multiprocessing version, you can time that as well using the same method, and then compare the execution times."
   ]
  },
  {
   "cell_type": "markdown",
   "metadata": {},
   "source": [
    "### conclusion\n",
    "\n",
    "Analysis: I am not very happy with my solution since I suspect there is a much more efficient one. But it works.\n",
    "\n",
    "> **meta-analysis**: I think my initial approach was clear. I think I was fairly self-aware about trying different avenues. However, I think I should have worked through all their examples more closely, and that might have speeded my way to the insight that blockspots could only ever be on the path. Also, I think when my first attempt at an analytical solution failed, I probably should have re-commited to more careful analysis than falling all the way back to BF solution\n"
   ]
  },
  {
   "cell_type": "code",
   "execution_count": null,
   "metadata": {},
   "outputs": [],
   "source": []
  }
 ],
 "metadata": {
  "gist": {
   "data": {
    "description": "aoc2024d6.ipynb",
    "public": false
   },
   "id": ""
  },
  "kernelspec": {
   "display_name": "Python 3 (ipykernel)",
   "language": "python",
   "name": "python3"
  },
  "language_info": {
   "codemirror_mode": {
    "name": "ipython",
    "version": 3
   },
   "file_extension": ".py",
   "mimetype": "text/x-python",
   "name": "python",
   "nbconvert_exporter": "python",
   "pygments_lexer": "ipython3",
   "version": "3.12.0"
  }
 },
 "nbformat": 4,
 "nbformat_minor": 4
}
