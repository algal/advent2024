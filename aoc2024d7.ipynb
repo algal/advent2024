{
 "cells": [
  {
   "cell_type": "code",
   "execution_count": 1,
   "id": "eefeb257",
   "metadata": {},
   "outputs": [],
   "source": [
    "sample=\"\"\"190: 10 19\n",
    "3267: 81 40 27\n",
    "83: 17 5\n",
    "156: 15 6\n",
    "7290: 6 8 6 15\n",
    "161011: 16 10 13\n",
    "192: 17 8 14\n",
    "21037: 9 7 18 13\n",
    "292: 11 6 16 20\"\"\"\n"
   ]
  },
  {
   "cell_type": "code",
   "execution_count": 51,
   "id": "67062324",
   "metadata": {},
   "outputs": [],
   "source": [
    "import os\n",
    "from aocd import get_data\n",
    "inp = get_data(day=7, year=2024)"
   ]
  },
  {
   "cell_type": "code",
   "execution_count": 32,
   "id": "1069a3f5",
   "metadata": {},
   "outputs": [],
   "source": [
    "def opss(n):\n",
    "    import itertools\n",
    "    return [list(ops) for ops in itertools.product([\"+\",\"*\"], repeat=n)]"
   ]
  },
  {
   "cell_type": "code",
   "execution_count": 36,
   "id": "64f2f839",
   "metadata": {},
   "outputs": [
    {
     "data": {
      "text/plain": [
       "['*', '*']"
      ]
     },
     "execution_count": 36,
     "metadata": {},
     "output_type": "execute_result"
    }
   ],
   "source": [
    "list(opss(2))[3]"
   ]
  },
  {
   "cell_type": "code",
   "execution_count": 25,
   "id": "f51dc469",
   "metadata": {},
   "outputs": [],
   "source": [
    "def ev(terms,ops):\n",
    "    assert len(ops) == len(terms) - 1\n",
    "    opterms = zip(ops,terms[1:])\n",
    "    import functools\n",
    "    tot = functools.reduce(apply_opterm,opterms,terms[0])\n",
    "    return tot\n",
    "    "
   ]
  },
  {
   "cell_type": "code",
   "execution_count": 26,
   "id": "fe603616",
   "metadata": {},
   "outputs": [],
   "source": [
    "def apply_opterm(val,opterm):\n",
    "    op,term = opterm\n",
    "    if op == '+': return val + term\n",
    "    if op=='*': return val * term\n",
    "    "
   ]
  },
  {
   "cell_type": "code",
   "execution_count": 28,
   "id": "8b4bd7b5",
   "metadata": {},
   "outputs": [],
   "source": [
    "def parse_eq(s):\n",
    "    v,terms=s.split(':')\n",
    "    terms=terms.strip().split(' ')\n",
    "    v=int(v)\n",
    "    terms=list(map(int,terms))\n",
    "    return v,terms"
   ]
  },
  {
   "cell_type": "code",
   "execution_count": 29,
   "id": "734eea9e",
   "metadata": {},
   "outputs": [],
   "source": [
    "def parse_eqs(s):\n",
    "    return [parse_eq(l) for l in s.splitlines()]"
   ]
  },
  {
   "cell_type": "code",
   "execution_count": 30,
   "id": "3a9311b4",
   "metadata": {},
   "outputs": [
    {
     "data": {
      "text/plain": [
       "[(190, [10, 19]),\n",
       " (3267, [81, 40, 27]),\n",
       " (83, [17, 5]),\n",
       " (156, [15, 6]),\n",
       " (7290, [6, 8, 6, 15]),\n",
       " (161011, [16, 10, 13]),\n",
       " (192, [17, 8, 14]),\n",
       " (21037, [9, 7, 18, 13]),\n",
       " (292, [11, 6, 16, 20])]"
      ]
     },
     "execution_count": 30,
     "metadata": {},
     "output_type": "execute_result"
    }
   ],
   "source": [
    "eqs=parse_eqs(sample)\n",
    "eqs"
   ]
  },
  {
   "cell_type": "code",
   "execution_count": 38,
   "id": "c212be40",
   "metadata": {},
   "outputs": [
    {
     "data": {
      "text/plain": [
       "[10, 19]"
      ]
     },
     "execution_count": 38,
     "metadata": {},
     "output_type": "execute_result"
    }
   ],
   "source": [
    "_,terms0 = parse_eqs(sample)[0]\n",
    "terms0"
   ]
  },
  {
   "cell_type": "code",
   "execution_count": 44,
   "id": "bfb243a8",
   "metadata": {},
   "outputs": [
    {
     "data": {
      "text/plain": [
       "190"
      ]
     },
     "execution_count": 44,
     "metadata": {},
     "output_type": "execute_result"
    }
   ],
   "source": [
    "eq_idx = 0\n",
    "ops_idx = 1\n",
    "_,terms = parse_eqs(sample)[eq_idx]\n",
    "ev(terms,list(opss(len(terms)-1))[ops_idx])"
   ]
  },
  {
   "cell_type": "code",
   "execution_count": 47,
   "id": "9a21d8e7",
   "metadata": {},
   "outputs": [],
   "source": [
    "def test_eq(eq, verbose=False):\n",
    "    v,terms = eq\n",
    "    for ops in opss(len(terms)-1):\n",
    "        total = ev(terms,ops)\n",
    "        if v == total: \n",
    "            if verbose:\n",
    "                print(f\"{terms} {ops} => {total}\")\n",
    "            return True\n",
    "    return False\n"
   ]
  },
  {
   "cell_type": "code",
   "execution_count": 46,
   "id": "4d520aeb",
   "metadata": {},
   "outputs": [
    {
     "name": "stdout",
     "output_type": "stream",
     "text": [
      "(190, [10, 19]): True\n",
      "(3267, [81, 40, 27]): True\n",
      "(83, [17, 5]): False\n",
      "(156, [15, 6]): False\n",
      "(7290, [6, 8, 6, 15]): False\n",
      "(161011, [16, 10, 13]): False\n",
      "(192, [17, 8, 14]): False\n",
      "(21037, [9, 7, 18, 13]): False\n",
      "(292, [11, 6, 16, 20]): True\n"
     ]
    }
   ],
   "source": [
    "for eq in parse_eqs(sample):\n",
    "    print(f\"{eq}: {test_eq(eq)}\")\n"
   ]
  },
  {
   "cell_type": "code",
   "execution_count": 48,
   "id": "aeeb47bd",
   "metadata": {},
   "outputs": [],
   "source": [
    "def sum_passing_tests(s):\n",
    "    eqs = parse_eqs(s)\n",
    "    passing_eqs = [eq for eq in eqs if test_eq(eq)]\n",
    "    return sum([eq[0] for eq in passing_eqs])"
   ]
  },
  {
   "cell_type": "code",
   "execution_count": 49,
   "id": "8f7bb6f8",
   "metadata": {},
   "outputs": [
    {
     "data": {
      "text/plain": [
       "3749"
      ]
     },
     "execution_count": 49,
     "metadata": {},
     "output_type": "execute_result"
    }
   ],
   "source": [
    "sum_passing_tests(sample)"
   ]
  },
  {
   "cell_type": "code",
   "execution_count": 53,
   "id": "6452494d",
   "metadata": {},
   "outputs": [
    {
     "data": {
      "text/plain": [
       "1298103531759"
      ]
     },
     "execution_count": 53,
     "metadata": {},
     "output_type": "execute_result"
    }
   ],
   "source": [
    "sum_passing_tests(inp)"
   ]
  },
  {
   "cell_type": "markdown",
   "id": "cfbe80ca",
   "metadata": {},
   "source": [
    "## Part 2\n",
    "\n",
    "Now we need to add a new operator || which does concatenation of its operands"
   ]
  },
  {
   "cell_type": "code",
   "execution_count": null,
   "id": "8bfb0d54",
   "metadata": {},
   "outputs": [],
   "source": []
  },
  {
   "cell_type": "code",
   "execution_count": 54,
   "id": "9bc60c34",
   "metadata": {},
   "outputs": [],
   "source": [
    "# redefining to add ||\n",
    "def opss(n):\n",
    "    import itertools\n",
    "    return [list(ops) for ops in itertools.product([\"+\",\"*\",\"||\"], repeat=n)]"
   ]
  },
  {
   "cell_type": "code",
   "execution_count": 55,
   "id": "ba834de0",
   "metadata": {},
   "outputs": [],
   "source": [
    "# redefining\n",
    "def apply_opterm(val,opterm):\n",
    "    op,term = opterm\n",
    "    if op == '+': return val + term\n",
    "    if op=='*': return val * term\n",
    "    if op==\"||\": return int(str(val)+str(term))\n",
    "    "
   ]
  },
  {
   "cell_type": "code",
   "execution_count": 56,
   "id": "baf40d2c",
   "metadata": {},
   "outputs": [
    {
     "data": {
      "text/plain": [
       "11387"
      ]
     },
     "execution_count": 56,
     "metadata": {},
     "output_type": "execute_result"
    }
   ],
   "source": [
    "sum_passing_tests(sample)"
   ]
  },
  {
   "cell_type": "code",
   "execution_count": 57,
   "id": "c1125884",
   "metadata": {},
   "outputs": [
    {
     "data": {
      "text/plain": [
       "140575048428831"
      ]
     },
     "execution_count": 57,
     "metadata": {},
     "output_type": "execute_result"
    }
   ],
   "source": [
    "sum_passing_tests(inp)"
   ]
  },
  {
   "cell_type": "markdown",
   "id": "71f45371",
   "metadata": {},
   "source": [
    "> *Meta-analyis*.\n",
    ">\n",
    "> 1. I like the pattern of naming variables and symbols with increasing ss, to keep track of a list, a list of lists, etc.. So ops for a list of operators, opss for a list of lists of operators, etc.. Natural language type annotation.\n",
    "> 2. There's a tension here between bottom-up development to verify small pieces, top-down development (where you write high-level functions first), and planning. Guidance is to write a lightweight plan and then start with small, bottom-up functions which can be immediately tested with data, rather than to write top-down code which can't be tested. But planning is itself a top-down activity, and defining types and sketing rough logic of high level functions can be a way of writing a plan. I don't think there's a perspective that dissolves this tension. Seems like a matter of t"
   ]
  },
  {
   "cell_type": "code",
   "execution_count": 20,
   "id": "df520182",
   "metadata": {},
   "outputs": [
    {
     "data": {
      "text/plain": [
       "[('+',), ('*',)]"
      ]
     },
     "execution_count": 20,
     "metadata": {},
     "output_type": "execute_result"
    }
   ],
   "source": [
    "list(ops(1)"
   ]
  },
  {
   "cell_type": "code",
   "execution_count": 21,
   "id": "921d0f2d",
   "metadata": {},
   "outputs": [
    {
     "data": {
      "text/plain": [
       "[('+', '+'), ('+', '*'), ('*', '+'), ('*', '*')]"
      ]
     },
     "execution_count": 21,
     "metadata": {},
     "output_type": "execute_result"
    }
   ],
   "source": [
    "list(ops(2))"
   ]
  }
 ],
 "metadata": {
  "kernelspec": {
   "display_name": "Python 3 (ipykernel)",
   "language": "python",
   "name": "python3"
  },
  "language_info": {
   "codemirror_mode": {
    "name": "ipython",
    "version": 3
   },
   "file_extension": ".py",
   "mimetype": "text/x-python",
   "name": "python",
   "nbconvert_exporter": "python",
   "pygments_lexer": "ipython3",
   "version": "3.12.0"
  }
 },
 "nbformat": 4,
 "nbformat_minor": 5
}
