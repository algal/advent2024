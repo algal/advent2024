{
  "cells": [
    {
      "metadata": {},
      "cell_type": "markdown",
      "source": "The Elf must recognize you, because they waste no time explaining that the new sleigh launch safety manual updates won't print correctly. Failure to update the safety manuals would be dire indeed, so you offer your services.\n\nSafety protocols clearly indicate that new pages for the safety manuals must be printed in a very specific order. The notation X|Y means that if both page number X and page number Y are to be produced as part of an update, page number X must be printed at some point before page number Y.\n\nThe Elf has for you both the page ordering rules and the pages to produce in each update (your puzzle input), but can't figure out whether each update has the pages in the right order.\n\nFor example:\n\n```\n47|53\n97|13\n97|61\n97|47\n75|29\n61|13\n75|53\n29|13\n97|29\n53|29\n61|53\n97|53\n61|29\n47|13\n75|47\n97|75\n47|61\n75|61\n47|29\n75|13\n53|13\n\n75,47,61,53,29\n97,61,53,29,13\n75,29,13\n75,97,47,61,53\n61,13,29\n97,13,75,29,47\n```\n\nThe first section specifies the page ordering rules, one per line. The first rule, 47|53, means that if an update includes both page number 47 and page number 53, then page number 47 must be printed at some point before page number 53. (47 doesn't necessarily need to be immediately before 53; other pages are allowed to be between them.)\n\nThe second section specifies the page numbers of each update. Because most safety manuals are different, the pages needed in the updates are different too. The first update, 75,47,61,53,29, means that the update consists of page numbers 75, 47, 61, 53, and 29.\n\nTo get the printers going as soon as possible, start by identifying which updates are already in the right order.\n\nThe first section specifies the page ordering rules, one per line. The first rule, 47|53, means that if an update includes both page number 47 and page number 53, then page number 47 must be printed at some point before page number 53. (47 doesn't necessarily need to be immediately before 53; other pages are allowed to be between them.)\n\nThe second section specifies the page numbers of each update. Because most safety manuals are different, the pages needed in the updates are different too. The first update, 75,47,61,53,29, means that the update consists of page numbers 75, 47, 61, 53, and 29.\n\nTo get the printers going as soon as possible, start by identifying which updates are already in the right order.\n\nIn the above example, the first update (75,47,61,53,29) is in the right order:\n\n75 is correctly first because there are rules that put each other page after it: 75|47, 75|61, 75|53, and 75|29.\n47 is correctly second because 75 must be before it (75|47) and every other page must be after it according to 47|61, 47|53, and 47|29.\n61 is correctly in the middle because 75 and 47 are before it (75|61 and 47|61) and 53 and 29 are after it (61|53 and 61|29).\n53 is correctly fourth because it is before page number 29 (53|29).\n29 is the only page left and so is correctly last.\n\nBecause the first update does not include some page numbers, the ordering rules involving those missing page numbers are ignored.\n\n- The second and third updates are also in the correct order according to the rules. Like the first update, they also do not include every page number, and so only some of the ordering rules apply - within each update, the ordering rules that involve missing page numbers are not used.\n\n- The fourth update, 75,97,47,61,53, is not in the correct order: it would print 75 before 97, which violates the rule 97|75.\n\n- The fifth update, 61,13,29, is also not in the correct order, since it breaks the rule 29|13.\n\n- The last update, 97,13,75,29,47, is not in the correct order due to breaking several rules.\n\nFor some reason, the Elves also need to know the middle page number of each update being printed. Because you are currently only printing the correctly-ordered updates, you will need to find the middle page number of each correctly-ordered update. In the above example, the correctly-ordered updates are:\n\n```\n75,47,61,53,29\n97,61,53,29,13\n75,29,13\n```\n\nThese have middle page numbers of 61, 53, and 29 respectively. Adding these page numbers together gives 143."
    },
    {
      "metadata": {
        "trusted": true
      },
      "cell_type": "code",
      "source": "sample = \"\"\"47|53\n97|13\n97|61\n97|47\n75|29\n61|13\n75|53\n29|13\n97|29\n53|29\n61|53\n97|53\n61|29\n47|13\n75|47\n97|75\n47|61\n75|61\n47|29\n75|13\n53|13\n\n75,47,61,53,29\n97,61,53,29,13\n75,29,13\n75,97,47,61,53\n61,13,29\n97,13,75,29,47\"\"\"",
      "execution_count": 14,
      "outputs": []
    },
    {
      "metadata": {
        "trusted": true
      },
      "cell_type": "code",
      "source": "def parse_updates(s:str):\n    update_lines = s.split('\\n\\n')[1].splitlines()\n    return [line.split(',') for line in update_lines]\nsample_updates = parse_updates(sample)",
      "execution_count": 15,
      "outputs": []
    },
    {
      "metadata": {
        "trusted": true
      },
      "cell_type": "code",
      "source": "def parse_rules(s:str):\n    rules = [line.split('|') for line in s.split('\\n\\n')[0].splitlines()]\n    return rules\nsample_rules = parse_rules(sample)",
      "execution_count": 16,
      "outputs": []
    },
    {
      "metadata": {
        "trusted": true
      },
      "cell_type": "code",
      "source": "def rules_touching_(item:str,rules:list):\n    return [rule for rule in rules if item in rule]",
      "execution_count": 10,
      "outputs": []
    },
    {
      "metadata": {
        "trusted": true
      },
      "cell_type": "code",
      "source": "def rules_touching_path_(path:list,rules):\n    \"Filters to rules which include at least one path element\"\n    result = []\n    for item in path:\n        rules = rules_touching_(item,rules)\n        result.extend(rules)\n    return result\nrules_touching_path_(parse_updates(samp)[0],parse_rules(samp))",
      "execution_count": 20,
      "outputs": [
        {
          "data": {
            "text/plain": "[['75', '29'],\n ['75', '53'],\n ['75', '47'],\n ['97', '75'],\n ['75', '61'],\n ['75', '13'],\n ['75', '47']]"
          },
          "execution_count": 20,
          "metadata": {},
          "output_type": "execute_result"
        }
      ]
    },
    {
      "metadata": {
        "trusted": true
      },
      "cell_type": "code",
      "source": "def rules_in_path(path:list,rules):\n    \"Filters to rules where src and dst are in the path\"\n    filtered_rules = []\n    for rule in rules:\n        (src,dst) = rule\n        if src in path and dst in path: \n            filtered_rules.append(rule)\n    return filtered_rules",
      "execution_count": 31,
      "outputs": []
    },
    {
      "metadata": {
        "trusted": true
      },
      "cell_type": "code",
      "source": "def is_path_valid(path,rules):\n    \"Returns False if a touching rule is directly incompatible with the path ordering\"\n    relevant_rules = rules_in_path(path,rules)\n    # is there a rule which excludes it?\n    for i in range(len(path)):\n        for j in range(i,len(path)):\n            if i == j: continue\n            (a,b) = path[i],path[j]\n            blocking_rule = [b,a]\n            if blocking_rule in rules:\n                return False\n    return True",
      "execution_count": 33,
      "outputs": []
    },
    {
      "metadata": {
        "trusted": true
      },
      "cell_type": "code",
      "source": "rules_touching_('47',parse_rules(samp)[:10])",
      "execution_count": 34,
      "outputs": [
        {
          "data": {
            "text/plain": "[['47', '53'], ['97', '47']]"
          },
          "execution_count": 34,
          "metadata": {},
          "output_type": "execute_result"
        }
      ]
    },
    {
      "metadata": {
        "trusted": true
      },
      "cell_type": "code",
      "source": "def score_input(s:str) -> int:\n    rules,paths = parse_rules(s), parse_updates(s)\n    valid_paths = [p for p in paths if is_path_valid(p,rules)]\n    def getmid(lst): return int(lst[ (len(lst) + 1)//2-1 ])\n    middles = [getmid(path) for path in valid_paths]\n    return sum(middles)\nscore_input(samp)",
      "execution_count": 35,
      "outputs": [
        {
          "data": {
            "text/plain": "143"
          },
          "execution_count": 35,
          "metadata": {},
          "output_type": "execute_result"
        }
      ]
    },
    {
      "metadata": {
        "scrolled": true,
        "trusted": true
      },
      "cell_type": "code",
      "source": "!pip install -q 'advent-of-code-data[nb]'",
      "execution_count": 9,
      "outputs": []
    },
    {
      "metadata": {
        "trusted": true
      },
      "cell_type": "code",
      "source": "import os\nfrom aocd import get_data\ninp = get_data(day=5, year=2024)",
      "execution_count": 36,
      "outputs": []
    },
    {
      "metadata": {
        "trusted": true
      },
      "cell_type": "code",
      "source": "score_input(inp)",
      "execution_count": 37,
      "outputs": [
        {
          "data": {
            "text/plain": "6242"
          },
          "execution_count": 37,
          "metadata": {},
          "output_type": "execute_result"
        }
      ]
    },
    {
      "metadata": {},
      "cell_type": "markdown",
      "source": "## Part 2"
    },
    {
      "metadata": {},
      "cell_type": "markdown",
      "source": "While the Elves get to work printing the correctly-ordered updates, you have a little time to fix the rest of them.\n\nFor each of the **incorrectly-ordered updates**, use the page ordering rules to put the page numbers in the right order. For the above example, here are the three incorrectly-ordered updates and their correct orderings:\n\n- 75,97,47,61,53 becomes 97,75,47,61,53.\n- 61,13,29 becomes 61,29,13.\n- 97,13,75,29,47 becomes 97,75,47,29,13.\n\nAfter taking **only the incorrectly-ordered updates** and ordering them correctly, their middle page numbers are 47, 29, and 47. Adding these together produces 123.\n\nFind the updates which are not in the correct order. What do you get if you add up the middle page numbers after correctly ordering just those updates?\n\n"
    },
    {
      "metadata": {
        "trusted": true
      },
      "cell_type": "code",
      "source": "invalid_paths = [p for p in sample_updates \n                 if not is_path_valid(p,sample_rules)]",
      "execution_count": 79,
      "outputs": []
    },
    {
      "metadata": {
        "trusted": true
      },
      "cell_type": "code",
      "source": "def mk_graph(rules):\n    d = dict()\n    for r in rules:\n        src,dst = r\n        d[src] = d.get(src,set()) | set([dst])\n    return d",
      "execution_count": 56,
      "outputs": []
    },
    {
      "metadata": {
        "trusted": true
      },
      "cell_type": "code",
      "source": "g = mk_graph(sample_rules)\ng",
      "execution_count": 63,
      "outputs": [
        {
          "data": {
            "text/plain": "{'47': {'13', '29', '53', '61'},\n '97': {'13', '29', '47', '53', '61', '75'},\n '75': {'13', '29', '47', '53', '61'},\n '61': {'13', '29', '53'},\n '29': {'13'},\n '53': {'13', '29'}}"
          },
          "execution_count": 63,
          "metadata": {},
          "output_type": "execute_result"
        }
      ]
    },
    {
      "metadata": {
        "trusted": true
      },
      "cell_type": "code",
      "source": "one_bad_path = invalid_paths[0]",
      "execution_count": 73,
      "outputs": []
    },
    {
      "metadata": {
        "trusted": true
      },
      "cell_type": "code",
      "source": "from functools import cmp_to_key",
      "execution_count": 59,
      "outputs": []
    },
    {
      "metadata": {
        "trusted": true
      },
      "cell_type": "code",
      "source": "def is_ordered_by_graph(a,b,graph):\n    if a not in graph and b not in graph: return 0\n    elif a in graph and b not in graph[a]: return 0\n    elif a in graph and b in graph[a]: return -1\n    elif a not in graph and b in graph and a not in graph[b]: return 0\n    elif a not in graph and b in graph and a in graph[b]: return 1\n    else: return 0\n",
      "execution_count": 61,
      "outputs": []
    },
    {
      "metadata": {
        "trusted": true
      },
      "cell_type": "code",
      "source": "import functools\ndef resort(bad_path,rules):\n    g = mk_graph(rules)\n    def cmp(a,b): return is_ordered_by_graph(a,b,g)\n    return sorted(bad_path,key=functools.cmp_to_key(cmp))    ",
      "execution_count": 70,
      "outputs": []
    },
    {
      "metadata": {
        "trusted": true
      },
      "cell_type": "code",
      "source": "one_bad_path",
      "execution_count": 74,
      "outputs": [
        {
          "data": {
            "text/plain": "['75', '47', '61', '53', '29']"
          },
          "execution_count": 74,
          "metadata": {},
          "output_type": "execute_result"
        }
      ]
    },
    {
      "metadata": {
        "trusted": true
      },
      "cell_type": "code",
      "source": "resort(one_bad_path,sample_rules)",
      "execution_count": 72,
      "outputs": [
        {
          "data": {
            "text/plain": "['75', '47', '61', '53', '29']"
          },
          "execution_count": 72,
          "metadata": {},
          "output_type": "execute_result"
        }
      ]
    },
    {
      "metadata": {
        "trusted": true
      },
      "cell_type": "code",
      "source": "resort(['75','97','47','61','53'],sample_rules)",
      "execution_count": 76,
      "outputs": [
        {
          "data": {
            "text/plain": "['97', '75', '47', '61', '53']"
          },
          "execution_count": 76,
          "metadata": {},
          "output_type": "execute_result"
        }
      ]
    },
    {
      "metadata": {
        "trusted": true
      },
      "cell_type": "code",
      "source": "def score_fixed_bad_input(s:str) -> int:\n    rules,paths = parse_rules(s), parse_updates(s)\n    invalid_paths = [p for p in paths if not is_path_valid(p,rules)]\n    resorted_paths = [resort(p,rules) for p in invalid_paths]\n    def getmid(lst): return int(lst[ (len(lst) + 1)//2-1 ])\n    middles = [getmid(path) for path in resorted_paths]\n    return sum(middles)\nscore_fixed_bad_input(samp)",
      "execution_count": 77,
      "outputs": [
        {
          "data": {
            "text/plain": "123"
          },
          "execution_count": 77,
          "metadata": {},
          "output_type": "execute_result"
        }
      ]
    },
    {
      "metadata": {
        "trusted": true
      },
      "cell_type": "code",
      "source": "score_fixed_bad_input(inp)",
      "execution_count": 78,
      "outputs": [
        {
          "data": {
            "text/plain": "5169"
          },
          "execution_count": 78,
          "metadata": {},
          "output_type": "execute_result"
        }
      ]
    },
    {
      "metadata": {},
      "cell_type": "markdown",
      "source": "## Junk"
    },
    {
      "metadata": {
        "trusted": true
      },
      "cell_type": "code",
      "source": "def mk_graph(rules):\n    d = dict()\n    for r in rules:\n        src,dst = r\n        d[src] = d.get(src,set()) | set([dst])\n    return d",
      "execution_count": 80,
      "outputs": []
    },
    {
      "metadata": {
        "trusted": true
      },
      "cell_type": "code",
      "source": "%%ai\nIs there a way to rewrite the above cell even more compactly?\n",
      "execution_count": 81,
      "outputs": []
    },
    {
      "metadata": {},
      "cell_type": "markdown",
      "source": "Yes, we can rewrite the `mk_graph` function more compactly using a dictionary comprehension and the `setdefault` method. Here's a more concise version:\n\n```python\ndef mk_graph(rules):\n    return {src: set(dst for s, dst in rules if s == src) for src, _ in rules}\n```\n\nThis one-liner creates the graph in a single dictionary comprehension. It iterates over all rules once, grouping destinations by their source. The `set` comprehension inside ensures that each source maps to a set of unique destinations.\n\nIf you prefer using `setdefault` for potentially better performance (avoiding creation of temporary sets), here's an alternative compact version:\n\n```python\ndef mk_graph(rules):\n    d = {}\n    for src, dst in rules:\n        d.setdefault(src, set()).add(dst)\n    return d\n```\n\nBoth of these versions are more concise than the original while maintaining the same functionality."
    },
    {
      "metadata": {
        "trusted": true
      },
      "cell_type": "code",
      "source": "%%ai\nexplain setdefault",
      "execution_count": 83,
      "outputs": []
    },
    {
      "metadata": {},
      "cell_type": "markdown",
      "source": "`setdefault` is a method of Python dictionaries that provides a convenient way to initialize a key with a default value if it doesn't already exist in the dictionary. Here's how it works:\n\n1. If the key exists in the dictionary, `setdefault` returns the existing value.\n2. If the key doesn't exist, it adds the key to the dictionary with the specified default value and returns that value.\n\nThe syntax is:\n```python\ndict.setdefault(key, default_value)\n```\n\nIn the context of `mk_graph`:\n\n```python\nd.setdefault(src, set()).add(dst)\n```\n\nThis line does the following:\n1. If `src` is not in `d`, it adds `src` as a key with an empty set as its value.\n2. It then returns the value associated with `src` (either the existing set or the newly created empty set).\n3. Finally, it adds `dst` to this set.\n\nThis approach is efficient because it avoids the need to check if the key exists before adding to its value, combining the check, potential initialization, and addition into a single operation."
    },
    {
      "metadata": {
        "trusted": true
      },
      "cell_type": "code",
      "source": "%%ai\nwhere is dst defined in your first snippet?",
      "execution_count": 82,
      "outputs": []
    },
    {
      "metadata": {},
      "cell_type": "markdown",
      "source": "I apologize for the error in my previous response. You're right to point out that `dst` is not properly defined in the first snippet. Let me correct that:\n\n```python\ndef mk_graph(rules):\n    return {src: set(dst for s, dst in rules if s == src) for src, dst in rules}\n```\n\nIn this corrected version, `dst` is properly defined in both the outer and inner comprehensions. The outer comprehension iterates over `src, dst in rules`, and the inner comprehension uses the same `dst` when the source matches.\n\nThank you for catching that mistake. It's a good reminder to always carefully review code, even in seemingly simple comprehensions."
    },
    {
      "metadata": {
        "trusted": true
      },
      "cell_type": "code",
      "source": "%%aia\ntell me about how costomize sort using a key func",
      "execution_count": 51,
      "outputs": []
    },
    {
      "metadata": {},
      "cell_type": "markdown",
      "source": "The `sorted()` function in Python allows you to customize the sorting behavior using a key function. Here's a brief explanation:\n\n1. The `key` parameter:\n   You can pass a function to the `key` parameter of `sorted()`. This function is applied to each element before comparison.\n\n2. How it works:\n   - The key function is called once for each item in the list.\n   - It should return a value that will be used for sorting instead of the original item.\n\n3. Basic syntax:\n   ```python\n   sorted(iterable, key=key_function)\n   ```\n\n4. Example with a lambda function:\n   ```python\n   # Sort strings by length\n   words = ['apple', 'banana', 'cherry']\n   sorted(words, key=lambda x: len(x))\n   ```\n\n5. Using a named function:\n   ```python\n   def get_second_element(item):\n       return item[1]\n\n   # Sort list of tuples by second element\n   pairs = [(1, 'b'), (3, 'a'), (2, 'c')]\n   sorted(pairs, key=get_second_element)\n   ```\n\n6. Built-in functions as key:\n   ```python\n   # Sort strings case-insensitively\n   sorted(words, key=str.lower)\n   ```\n\n7. Using `operator.itemgetter` for more complex cases:\n   ```python\n   from operator import itemgetter\n   \n   # Sort dictionaries by a specific key\n   data = [{'name': 'Alice', 'age': 30}, {'name': 'Bob', 'age': 25}]\n   sorted(data, key=itemgetter('age'))\n   ```\n\nThe key function allows for flexible and powerful custom sorting based on any criteria you define."
    },
    {
      "metadata": {
        "trusted": true
      },
      "cell_type": "code",
      "source": "%%ai\ninstead of providing a key function which itself provides a sortable value, is there a way I can simply providing a less-than, eq, or greater-than ordering per pair?\n",
      "execution_count": 52,
      "outputs": []
    },
    {
      "metadata": {},
      "cell_type": "markdown",
      "source": "Yes, you can use the `functools.cmp_to_key()` function to create a key function from a custom comparison function. This allows you to define the ordering based on pairwise comparisons. Here's how it works:\n\n1. Import the function:\n   ```python\n   from functools import cmp_to_key\n   ```\n\n2. Define a comparison function that takes two arguments and returns:\n   - A negative value if the first argument is considered smaller\n   - Zero if the arguments are considered equal\n   - A positive value if the first argument is considered larger\n\n3. Use it with `sorted()`:\n   ```python\n   sorted(iterable, key=cmp_to_key(comparison_function))\n   ```\n\nExample:\n\n```python\nfrom functools import cmp_to_key\n\ndef custom_compare(a, b):\n    if a < b:\n        return -1\n    elif a > b:\n        return 1\n    else:\n        return 0\n\nnumbers = [3, 1, 4, 1, 5, 9, 2, 6, 5, 3, 5]\nsorted_numbers = sorted(numbers, key=cmp_to_key(custom_compare))\n```\n\nThis approach gives you full control over the comparison logic between any two elements in your list."
    },
    {
      "metadata": {
        "trusted": true
      },
      "cell_type": "code",
      "source": "%%ai\nhow does that function `cmp_to_key` work?\n",
      "execution_count": 53,
      "outputs": []
    },
    {
      "metadata": {},
      "cell_type": "markdown",
      "source": "The `cmp_to_key` function is a wrapper that converts a comparison function to a key function. Here's a simplified explanation of how it works:\n\n1. It creates a class with special methods (`__lt__`, `__gt__`, etc.) that define ordering.\n\n2. These methods use your comparison function to determine the ordering.\n\n3. It returns a callable that creates instances of this class.\n\n4. When sorting, Python calls this callable for each item, creating wrapper objects.\n\n5. Python then uses the special methods to compare these wrapper objects.\n\nThe internal implementation is complex, involving a custom class and several comparison methods. The key idea is that it translates pairwise comparisons into a form that Python's sorting algorithm can use efficiently.\n\nIn practice, you don't need to worry about these details. You just provide your comparison function, and `cmp_to_key` handles the rest, allowing you to use familiar comparison logic with Python's sorting functions."
    },
    {
      "metadata": {
        "trusted": true
      },
      "cell_type": "code",
      "source": "%%ai\nI get it's complex but give me the essence of how it works conceptually. I know what it does.\n",
      "execution_count": 54,
      "outputs": []
    },
    {
      "metadata": {},
      "cell_type": "markdown",
      "source": "Conceptually, `cmp_to_key` works by transforming a pairwise comparison approach into a key-based approach. Here's the essence:\n\n1. It creates a wrapper object for each item being sorted.\n\n2. These wrapper objects \"remember\" the original item they're wrapping.\n\n3. When Python needs to compare two items during sorting, it actually compares their wrapper objects.\n\n4. The wrapper objects use your comparison function to determine their relative order.\n\n5. This allows the sorting algorithm to work with keys (the wrapper objects) while still using your pairwise comparison logic.\n\nIn essence, it's bridging two different sorting paradigms: the older comparison-based sorting and the newer key-based sorting, allowing you to use comparison logic in a key-based sorting system."
    },
    {
      "metadata": {
        "trusted": true
      },
      "cell_type": "code",
      "source": "",
      "execution_count": null,
      "outputs": []
    }
  ],
  "metadata": {
    "kernelspec": {
      "name": "python3",
      "display_name": "Python 3 (ipykernel)",
      "language": "python"
    },
    "language_info": {
      "name": "python",
      "version": "3.12.0",
      "mimetype": "text/x-python",
      "codemirror_mode": {
        "name": "ipython",
        "version": 3
      },
      "pygments_lexer": "ipython3",
      "nbconvert_exporter": "python",
      "file_extension": ".py"
    },
    "gist": {
      "id": "",
      "data": {
        "description": "aoc2024d5.ipynb",
        "public": false
      }
    }
  },
  "nbformat": 4,
  "nbformat_minor": 4
}